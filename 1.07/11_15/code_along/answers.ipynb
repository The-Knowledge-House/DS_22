{
 "cells": [
  {
   "cell_type": "markdown",
   "metadata": {},
   "source": [
    "# Data Analysis Code-Along\n",
    "\n",
    "Implement the code-blocks below in order to explore some common data-analysis techniques. We will be using the `realestate.csv` file again."
   ]
  },
  {
   "cell_type": "code",
   "execution_count": 37,
   "metadata": {},
   "outputs": [],
   "source": [
    "import pandas as pd\n",
    "import numpy as np\n",
    "\n",
    "import matplotlib.pyplot as plt\n",
    "import seaborn as sns\n",
    "\n",
    "from scipy import stats"
   ]
  },
  {
   "cell_type": "code",
   "execution_count": 38,
   "metadata": {},
   "outputs": [],
   "source": [
    "df = pd.read_csv(\"../data/realestate.csv\")"
   ]
  },
  {
   "cell_type": "code",
   "execution_count": 39,
   "metadata": {},
   "outputs": [
    {
     "data": {
      "text/html": [
       "<div>\n",
       "<style scoped>\n",
       "    .dataframe tbody tr th:only-of-type {\n",
       "        vertical-align: middle;\n",
       "    }\n",
       "\n",
       "    .dataframe tbody tr th {\n",
       "        vertical-align: top;\n",
       "    }\n",
       "\n",
       "    .dataframe thead th {\n",
       "        text-align: right;\n",
       "    }\n",
       "</style>\n",
       "<table border=\"1\" class=\"dataframe\">\n",
       "  <thead>\n",
       "    <tr style=\"text-align: right;\">\n",
       "      <th></th>\n",
       "      <th>house age</th>\n",
       "      <th>distance_to_mrt</th>\n",
       "      <th>num_convenience_stores</th>\n",
       "      <th>price_per_unit_area</th>\n",
       "      <th>num_of_rooms</th>\n",
       "      <th>pet_friendly</th>\n",
       "    </tr>\n",
       "  </thead>\n",
       "  <tbody>\n",
       "    <tr>\n",
       "      <th>0</th>\n",
       "      <td>19.5</td>\n",
       "      <td>306.5947</td>\n",
       "      <td>9.0</td>\n",
       "      <td>42.2</td>\n",
       "      <td>2</td>\n",
       "      <td>No</td>\n",
       "    </tr>\n",
       "    <tr>\n",
       "      <th>1</th>\n",
       "      <td>13.3</td>\n",
       "      <td>561.9845</td>\n",
       "      <td>5.0</td>\n",
       "      <td>47.3</td>\n",
       "      <td>2</td>\n",
       "      <td>No</td>\n",
       "    </tr>\n",
       "    <tr>\n",
       "      <th>2</th>\n",
       "      <td>13.3</td>\n",
       "      <td>561.9845</td>\n",
       "      <td>5.0</td>\n",
       "      <td>54.8</td>\n",
       "      <td>4</td>\n",
       "      <td>No</td>\n",
       "    </tr>\n",
       "    <tr>\n",
       "      <th>3</th>\n",
       "      <td>5.0</td>\n",
       "      <td>390.5684</td>\n",
       "      <td>5.0</td>\n",
       "      <td>43.1</td>\n",
       "      <td>3</td>\n",
       "      <td>No</td>\n",
       "    </tr>\n",
       "    <tr>\n",
       "      <th>4</th>\n",
       "      <td>7.1</td>\n",
       "      <td>2175.0300</td>\n",
       "      <td>3.0</td>\n",
       "      <td>32.1</td>\n",
       "      <td>3</td>\n",
       "      <td>Yes</td>\n",
       "    </tr>\n",
       "  </tbody>\n",
       "</table>\n",
       "</div>"
      ],
      "text/plain": [
       "   house age  distance_to_mrt  num_convenience_stores  price_per_unit_area  \\\n",
       "0       19.5         306.5947                     9.0                 42.2   \n",
       "1       13.3         561.9845                     5.0                 47.3   \n",
       "2       13.3         561.9845                     5.0                 54.8   \n",
       "3        5.0         390.5684                     5.0                 43.1   \n",
       "4        7.1        2175.0300                     3.0                 32.1   \n",
       "\n",
       "   num_of_rooms pet_friendly  \n",
       "0             2           No  \n",
       "1             2           No  \n",
       "2             4           No  \n",
       "3             3           No  \n",
       "4             3          Yes  "
      ]
     },
     "execution_count": 39,
     "metadata": {},
     "output_type": "execute_result"
    }
   ],
   "source": [
    "# let's observe the head of this df and check out our new column \"pet_friendly\"\n",
    "df.head()"
   ]
  },
  {
   "cell_type": "code",
   "execution_count": 40,
   "metadata": {},
   "outputs": [
    {
     "data": {
      "text/plain": [
       "pet_friendly\n",
       "No     233\n",
       "Yes    101\n",
       "Name: count, dtype: int64"
      ]
     },
     "execution_count": 40,
     "metadata": {},
     "output_type": "execute_result"
    }
   ],
   "source": [
    "# let's see the unique counts of \"pet_friendly\"\n",
    "df[\"pet_friendly\"].value_counts()"
   ]
  },
  {
   "cell_type": "code",
   "execution_count": 41,
   "metadata": {},
   "outputs": [
    {
     "data": {
      "text/plain": [
       "0"
      ]
     },
     "execution_count": 41,
     "metadata": {},
     "output_type": "execute_result"
    }
   ],
   "source": [
    "# just for good measure, let's check that there are no missing values\n",
    "df[\"pet_friendly\"].isna().sum()"
   ]
  },
  {
   "cell_type": "markdown",
   "metadata": {},
   "source": [
    "TASK: Calculate the average house age, distance to mrt, number of convenience stores, and price per unit area for pet friendly and non-pet friendly apartments"
   ]
  },
  {
   "cell_type": "code",
   "execution_count": 42,
   "metadata": {},
   "outputs": [
    {
     "data": {
      "text/html": [
       "<div>\n",
       "<style scoped>\n",
       "    .dataframe tbody tr th:only-of-type {\n",
       "        vertical-align: middle;\n",
       "    }\n",
       "\n",
       "    .dataframe tbody tr th {\n",
       "        vertical-align: top;\n",
       "    }\n",
       "\n",
       "    .dataframe thead th {\n",
       "        text-align: right;\n",
       "    }\n",
       "</style>\n",
       "<table border=\"1\" class=\"dataframe\">\n",
       "  <thead>\n",
       "    <tr style=\"text-align: right;\">\n",
       "      <th></th>\n",
       "      <th>house age</th>\n",
       "      <th>distance_to_mrt</th>\n",
       "      <th>num_convenience_stores</th>\n",
       "      <th>price_per_unit_area</th>\n",
       "      <th>num_of_rooms</th>\n",
       "    </tr>\n",
       "    <tr>\n",
       "      <th>pet_friendly</th>\n",
       "      <th></th>\n",
       "      <th></th>\n",
       "      <th></th>\n",
       "      <th></th>\n",
       "      <th></th>\n",
       "    </tr>\n",
       "  </thead>\n",
       "  <tbody>\n",
       "    <tr>\n",
       "      <th>No</th>\n",
       "      <td>18.192275</td>\n",
       "      <td>520.536241</td>\n",
       "      <td>5.489270</td>\n",
       "      <td>43.244206</td>\n",
       "      <td>3.055794</td>\n",
       "    </tr>\n",
       "    <tr>\n",
       "      <th>Yes</th>\n",
       "      <td>16.012871</td>\n",
       "      <td>1487.113683</td>\n",
       "      <td>3.475248</td>\n",
       "      <td>33.493069</td>\n",
       "      <td>2.257426</td>\n",
       "    </tr>\n",
       "  </tbody>\n",
       "</table>\n",
       "</div>"
      ],
      "text/plain": [
       "              house age  distance_to_mrt  num_convenience_stores  \\\n",
       "pet_friendly                                                       \n",
       "No            18.192275       520.536241                5.489270   \n",
       "Yes           16.012871      1487.113683                3.475248   \n",
       "\n",
       "              price_per_unit_area  num_of_rooms  \n",
       "pet_friendly                                     \n",
       "No                      43.244206      3.055794  \n",
       "Yes                     33.493069      2.257426  "
      ]
     },
     "execution_count": 42,
     "metadata": {},
     "output_type": "execute_result"
    }
   ],
   "source": [
    "df.groupby(\"pet_friendly\").mean()"
   ]
  },
  {
   "cell_type": "markdown",
   "metadata": {},
   "source": [
    "TASK: consider the differences in the above dataframe. Which type of apartment is cheaper and farther away from the MRT. How many rooms does a pet-friendly home have on average and which type of home is newer on average?"
   ]
  },
  {
   "cell_type": "markdown",
   "metadata": {},
   "source": [
    "TASK: Let's create a pivot table where pet-friendly is the index, number of rooms are the columns, and the mean price_per_unit_area are the values"
   ]
  },
  {
   "cell_type": "code",
   "execution_count": 43,
   "metadata": {},
   "outputs": [
    {
     "data": {
      "text/html": [
       "<div>\n",
       "<style scoped>\n",
       "    .dataframe tbody tr th:only-of-type {\n",
       "        vertical-align: middle;\n",
       "    }\n",
       "\n",
       "    .dataframe tbody tr th {\n",
       "        vertical-align: top;\n",
       "    }\n",
       "\n",
       "    .dataframe thead th {\n",
       "        text-align: right;\n",
       "    }\n",
       "</style>\n",
       "<table border=\"1\" class=\"dataframe\">\n",
       "  <thead>\n",
       "    <tr style=\"text-align: right;\">\n",
       "      <th>num_of_rooms</th>\n",
       "      <th>1</th>\n",
       "      <th>2</th>\n",
       "      <th>3</th>\n",
       "      <th>4</th>\n",
       "      <th>5</th>\n",
       "      <th>6</th>\n",
       "    </tr>\n",
       "    <tr>\n",
       "      <th>pet_friendly</th>\n",
       "      <th></th>\n",
       "      <th></th>\n",
       "      <th></th>\n",
       "      <th></th>\n",
       "      <th></th>\n",
       "      <th></th>\n",
       "    </tr>\n",
       "  </thead>\n",
       "  <tbody>\n",
       "    <tr>\n",
       "      <th>No</th>\n",
       "      <td>35.059184</td>\n",
       "      <td>34.964286</td>\n",
       "      <td>44.654167</td>\n",
       "      <td>46.791228</td>\n",
       "      <td>56.386667</td>\n",
       "      <td>56.054545</td>\n",
       "    </tr>\n",
       "    <tr>\n",
       "      <th>Yes</th>\n",
       "      <td>26.368571</td>\n",
       "      <td>27.751613</td>\n",
       "      <td>43.576471</td>\n",
       "      <td>46.707143</td>\n",
       "      <td>NaN</td>\n",
       "      <td>51.225000</td>\n",
       "    </tr>\n",
       "  </tbody>\n",
       "</table>\n",
       "</div>"
      ],
      "text/plain": [
       "num_of_rooms          1          2          3          4          5          6\n",
       "pet_friendly                                                                  \n",
       "No            35.059184  34.964286  44.654167  46.791228  56.386667  56.054545\n",
       "Yes           26.368571  27.751613  43.576471  46.707143        NaN  51.225000"
      ]
     },
     "execution_count": 43,
     "metadata": {},
     "output_type": "execute_result"
    }
   ],
   "source": [
    "# Documentation: https://pandas.pydata.org/docs/reference/api/pandas.pivot_table.html#\n",
    "\n",
    "pd.pivot_table(df, index=\"pet_friendly\", values=\"price_per_unit_area\", columns=\"num_of_rooms\", aggfunc=\"mean\")"
   ]
  },
  {
   "cell_type": "markdown",
   "metadata": {},
   "source": [
    "TASK: remember, this is a dataframe! We can access individual columns to get a closer look at our sub-categories. Let's save this dataframe into a variable and get the column that describes \"1-bedroom\" apartments."
   ]
  },
  {
   "cell_type": "code",
   "execution_count": 44,
   "metadata": {},
   "outputs": [
    {
     "data": {
      "text/plain": [
       "pet_friendly\n",
       "No     35.059184\n",
       "Yes    26.368571\n",
       "Name: 1, dtype: float64"
      ]
     },
     "execution_count": 44,
     "metadata": {},
     "output_type": "execute_result"
    }
   ],
   "source": [
    "# save into a dataframe\n",
    "room_pets = pd.pivot_table(df, index=\"pet_friendly\", values=\"price_per_unit_area\", columns=\"num_of_rooms\", aggfunc=\"mean\")\n",
    "\n",
    "# print out column describing 1-bedroom apartments\n",
    "room_pets[1]"
   ]
  },
  {
   "cell_type": "markdown",
   "metadata": {},
   "source": [
    "TASK: While this is more applicable when we have many index categories, we can also extract the index with the highest value. This is useful for presentation purposes and quick insight. Using the 'idmax()' function, get the index with the highest value in this series."
   ]
  },
  {
   "cell_type": "code",
   "execution_count": 45,
   "metadata": {},
   "outputs": [
    {
     "data": {
      "text/plain": [
       "'No'"
      ]
     },
     "execution_count": 45,
     "metadata": {},
     "output_type": "execute_result"
    }
   ],
   "source": [
    "# Documentation: https://pandas.pydata.org/docs/reference/api/pandas.DataFrame.idxmax.html\n",
    "\n",
    "room_pets[1].idxmax()"
   ]
  },
  {
   "cell_type": "markdown",
   "metadata": {},
   "source": [
    "TASK: Apply the same idmax function to the entire pivot table:"
   ]
  },
  {
   "cell_type": "code",
   "execution_count": 46,
   "metadata": {},
   "outputs": [
    {
     "data": {
      "text/plain": [
       "num_of_rooms\n",
       "1    No\n",
       "2    No\n",
       "3    No\n",
       "4    No\n",
       "5    No\n",
       "6    No\n",
       "dtype: object"
      ]
     },
     "execution_count": 46,
     "metadata": {},
     "output_type": "execute_result"
    }
   ],
   "source": [
    "room_pets.idxmax()"
   ]
  },
  {
   "cell_type": "markdown",
   "metadata": {},
   "source": [
    "TASK: While we have these two categorical columns, \"num_of_rooms\" and \"pet_friendly\", let's create one more categorical column called \"proximity_to_mrt\" that labels my sample as \"far\" or \"near\" to the closest mrt station. This is a relative term that I want to base around my distribution of values, so I'm going to use the `qcut` function to acheive this. \n",
    "\n",
    "Keep these differences in mind: `cut` is for when you want cuts based on even spacing of *values*. This could potentially lead to poor sampling (some cuts might have 0 values). However, this could be useful when you're interested in relative values (ex: how many americans make > 100k?).\n",
    "\n",
    "`qcut` is used for even distributions of values and will ensure that each bin has the same amount of samples. "
   ]
  },
  {
   "cell_type": "code",
   "execution_count": 47,
   "metadata": {},
   "outputs": [
    {
     "data": {
      "text/html": [
       "<div>\n",
       "<style scoped>\n",
       "    .dataframe tbody tr th:only-of-type {\n",
       "        vertical-align: middle;\n",
       "    }\n",
       "\n",
       "    .dataframe tbody tr th {\n",
       "        vertical-align: top;\n",
       "    }\n",
       "\n",
       "    .dataframe thead th {\n",
       "        text-align: right;\n",
       "    }\n",
       "</style>\n",
       "<table border=\"1\" class=\"dataframe\">\n",
       "  <thead>\n",
       "    <tr style=\"text-align: right;\">\n",
       "      <th></th>\n",
       "      <th>house age</th>\n",
       "      <th>distance_to_mrt</th>\n",
       "      <th>num_convenience_stores</th>\n",
       "      <th>price_per_unit_area</th>\n",
       "      <th>num_of_rooms</th>\n",
       "      <th>pet_friendly</th>\n",
       "      <th>proximity_to_mrt</th>\n",
       "    </tr>\n",
       "  </thead>\n",
       "  <tbody>\n",
       "    <tr>\n",
       "      <th>0</th>\n",
       "      <td>19.5</td>\n",
       "      <td>306.5947</td>\n",
       "      <td>9.0</td>\n",
       "      <td>42.2</td>\n",
       "      <td>2</td>\n",
       "      <td>No</td>\n",
       "      <td>close</td>\n",
       "    </tr>\n",
       "    <tr>\n",
       "      <th>1</th>\n",
       "      <td>13.3</td>\n",
       "      <td>561.9845</td>\n",
       "      <td>5.0</td>\n",
       "      <td>47.3</td>\n",
       "      <td>2</td>\n",
       "      <td>No</td>\n",
       "      <td>far</td>\n",
       "    </tr>\n",
       "    <tr>\n",
       "      <th>2</th>\n",
       "      <td>13.3</td>\n",
       "      <td>561.9845</td>\n",
       "      <td>5.0</td>\n",
       "      <td>54.8</td>\n",
       "      <td>4</td>\n",
       "      <td>No</td>\n",
       "      <td>far</td>\n",
       "    </tr>\n",
       "    <tr>\n",
       "      <th>3</th>\n",
       "      <td>5.0</td>\n",
       "      <td>390.5684</td>\n",
       "      <td>5.0</td>\n",
       "      <td>43.1</td>\n",
       "      <td>3</td>\n",
       "      <td>No</td>\n",
       "      <td>close</td>\n",
       "    </tr>\n",
       "    <tr>\n",
       "      <th>4</th>\n",
       "      <td>7.1</td>\n",
       "      <td>2175.0300</td>\n",
       "      <td>3.0</td>\n",
       "      <td>32.1</td>\n",
       "      <td>3</td>\n",
       "      <td>Yes</td>\n",
       "      <td>far</td>\n",
       "    </tr>\n",
       "  </tbody>\n",
       "</table>\n",
       "</div>"
      ],
      "text/plain": [
       "   house age  distance_to_mrt  num_convenience_stores  price_per_unit_area  \\\n",
       "0       19.5         306.5947                     9.0                 42.2   \n",
       "1       13.3         561.9845                     5.0                 47.3   \n",
       "2       13.3         561.9845                     5.0                 54.8   \n",
       "3        5.0         390.5684                     5.0                 43.1   \n",
       "4        7.1        2175.0300                     3.0                 32.1   \n",
       "\n",
       "   num_of_rooms pet_friendly proximity_to_mrt  \n",
       "0             2           No            close  \n",
       "1             2           No              far  \n",
       "2             4           No              far  \n",
       "3             3           No            close  \n",
       "4             3          Yes              far  "
      ]
     },
     "execution_count": 47,
     "metadata": {},
     "output_type": "execute_result"
    }
   ],
   "source": [
    "df[\"proximity_to_mrt\"] = pd.qcut(df[\"distance_to_mrt\"], q=2, labels=[\"close\", \"far\"])\n",
    "\n",
    "df.head()"
   ]
  },
  {
   "cell_type": "markdown",
   "metadata": {},
   "source": [
    "TASK: Using this new column let's count up the relative frequency of \"close\" apartments that are both \"pet friendly\" and not \"pet friendly\" as well as the \"far\" apartments. We're going to use `value_counts` with `normalize=True` to observe the relative frequency to get a better judgement of these values."
   ]
  },
  {
   "cell_type": "code",
   "execution_count": 48,
   "metadata": {},
   "outputs": [
    {
     "data": {
      "text/plain": [
       "proximity_to_mrt  pet_friendly\n",
       "close             No              0.425150\n",
       "far               No              0.272455\n",
       "                  Yes             0.227545\n",
       "close             Yes             0.074850\n",
       "Name: proportion, dtype: float64"
      ]
     },
     "execution_count": 48,
     "metadata": {},
     "output_type": "execute_result"
    }
   ],
   "source": [
    "# Documentation: https://pandas.pydata.org/docs/reference/api/pandas.Series.value_counts.html\n",
    "\n",
    "df[[\"proximity_to_mrt\", \"pet_friendly\"]].value_counts(normalize=True)"
   ]
  },
  {
   "cell_type": "markdown",
   "metadata": {},
   "source": [
    "TASK: Let's express this value_counts dataframe as a bar chart in seaborn to view our relative proportions. Before we get to this however, we will call the `reset_index()` method to \"unstack\" our multi-dimensional indices and instead treat them like columns. This often makes it easier to work with a multi-dimensional dataset and instead \"flattens\" it out. We will call the same method as above (along with `reset_index()`) and save this into a new variable called `vis`."
   ]
  },
  {
   "cell_type": "code",
   "execution_count": 49,
   "metadata": {},
   "outputs": [
    {
     "data": {
      "text/html": [
       "<div>\n",
       "<style scoped>\n",
       "    .dataframe tbody tr th:only-of-type {\n",
       "        vertical-align: middle;\n",
       "    }\n",
       "\n",
       "    .dataframe tbody tr th {\n",
       "        vertical-align: top;\n",
       "    }\n",
       "\n",
       "    .dataframe thead th {\n",
       "        text-align: right;\n",
       "    }\n",
       "</style>\n",
       "<table border=\"1\" class=\"dataframe\">\n",
       "  <thead>\n",
       "    <tr style=\"text-align: right;\">\n",
       "      <th></th>\n",
       "      <th>proximity_to_mrt</th>\n",
       "      <th>pet_friendly</th>\n",
       "      <th>proportion</th>\n",
       "    </tr>\n",
       "  </thead>\n",
       "  <tbody>\n",
       "    <tr>\n",
       "      <th>0</th>\n",
       "      <td>close</td>\n",
       "      <td>No</td>\n",
       "      <td>0.425150</td>\n",
       "    </tr>\n",
       "    <tr>\n",
       "      <th>1</th>\n",
       "      <td>far</td>\n",
       "      <td>No</td>\n",
       "      <td>0.272455</td>\n",
       "    </tr>\n",
       "    <tr>\n",
       "      <th>2</th>\n",
       "      <td>far</td>\n",
       "      <td>Yes</td>\n",
       "      <td>0.227545</td>\n",
       "    </tr>\n",
       "    <tr>\n",
       "      <th>3</th>\n",
       "      <td>close</td>\n",
       "      <td>Yes</td>\n",
       "      <td>0.074850</td>\n",
       "    </tr>\n",
       "  </tbody>\n",
       "</table>\n",
       "</div>"
      ],
      "text/plain": [
       "  proximity_to_mrt pet_friendly  proportion\n",
       "0            close           No    0.425150\n",
       "1              far           No    0.272455\n",
       "2              far          Yes    0.227545\n",
       "3            close          Yes    0.074850"
      ]
     },
     "execution_count": 49,
     "metadata": {},
     "output_type": "execute_result"
    }
   ],
   "source": [
    "# https://pandas.pydata.org/docs/reference/api/pandas.DataFrame.reset_index.html\n",
    "\n",
    "vis = df[[\"proximity_to_mrt\", \"pet_friendly\"]].value_counts(normalize=True).reset_index()\n",
    "\n",
    "vis"
   ]
  },
  {
   "cell_type": "markdown",
   "metadata": {},
   "source": [
    "TASK: Next, we call the seaborn `barplot` with params `data=vis`, `x=\"proxmitiy_to_mrt\"`, and `y=\"proportion\"`. This time however, we will add another \"dimension\" to our dataframe with `hue=\"pet_friendly\"` to create two bar-charts for each category."
   ]
  },
  {
   "cell_type": "code",
   "execution_count": 50,
   "metadata": {},
   "outputs": [
    {
     "name": "stderr",
     "output_type": "stream",
     "text": [
      "c:\\Users\\saidmf\\anaconda3\\envs\\phase1\\lib\\site-packages\\seaborn\\_oldcore.py:1498: FutureWarning: is_categorical_dtype is deprecated and will be removed in a future version. Use isinstance(dtype, CategoricalDtype) instead\n",
      "  if pd.api.types.is_categorical_dtype(vector):\n",
      "c:\\Users\\saidmf\\anaconda3\\envs\\phase1\\lib\\site-packages\\seaborn\\categorical.py:641: FutureWarning: The default of observed=False is deprecated and will be changed to True in a future version of pandas. Pass observed=False to retain current behavior or observed=True to adopt the future default and silence this warning.\n",
      "  grouped_vals = vals.groupby(grouper)\n",
      "c:\\Users\\saidmf\\anaconda3\\envs\\phase1\\lib\\site-packages\\seaborn\\_oldcore.py:1498: FutureWarning: is_categorical_dtype is deprecated and will be removed in a future version. Use isinstance(dtype, CategoricalDtype) instead\n",
      "  if pd.api.types.is_categorical_dtype(vector):\n",
      "c:\\Users\\saidmf\\anaconda3\\envs\\phase1\\lib\\site-packages\\seaborn\\categorical.py:641: FutureWarning: The default of observed=False is deprecated and will be changed to True in a future version of pandas. Pass observed=False to retain current behavior or observed=True to adopt the future default and silence this warning.\n",
      "  grouped_vals = vals.groupby(grouper)\n"
     ]
    },
    {
     "data": {
      "text/plain": [
       "<Axes: xlabel='proximity_to_mrt', ylabel='proportion'>"
      ]
     },
     "execution_count": 50,
     "metadata": {},
     "output_type": "execute_result"
    },
    {
     "data": {
      "image/png": "[encoded data removed]",
      "text/plain": [
       "<Figure size 640x480 with 1 Axes>"
      ]
     },
     "metadata": {},
     "output_type": "display_data"
    }
   ],
   "source": [
    "sns.barplot(x=\"proximity_to_mrt\",  y=\"proportion\", data=vis, hue=\"pet_friendly\")"
   ]
  },
  {
   "cell_type": "markdown",
   "metadata": {},
   "source": [
    "TASK: To explore the relationship b/w pet-friendly and proximity to mrt a little further, let's create a pivot table to explore the **average** price of all combinations of these two columns."
   ]
  },
  {
   "cell_type": "code",
   "execution_count": 51,
   "metadata": {},
   "outputs": [
    {
     "data": {
      "text/html": [
       "<div>\n",
       "<style scoped>\n",
       "    .dataframe tbody tr th:only-of-type {\n",
       "        vertical-align: middle;\n",
       "    }\n",
       "\n",
       "    .dataframe tbody tr th {\n",
       "        vertical-align: top;\n",
       "    }\n",
       "\n",
       "    .dataframe thead th {\n",
       "        text-align: right;\n",
       "    }\n",
       "</style>\n",
       "<table border=\"1\" class=\"dataframe\">\n",
       "  <thead>\n",
       "    <tr style=\"text-align: right;\">\n",
       "      <th>proximity_to_mrt</th>\n",
       "      <th>close</th>\n",
       "      <th>far</th>\n",
       "    </tr>\n",
       "    <tr>\n",
       "      <th>pet_friendly</th>\n",
       "      <th></th>\n",
       "      <th></th>\n",
       "    </tr>\n",
       "  </thead>\n",
       "  <tbody>\n",
       "    <tr>\n",
       "      <th>No</th>\n",
       "      <td>47.294366</td>\n",
       "      <td>36.924176</td>\n",
       "    </tr>\n",
       "    <tr>\n",
       "      <th>Yes</th>\n",
       "      <td>48.536000</td>\n",
       "      <td>28.544737</td>\n",
       "    </tr>\n",
       "  </tbody>\n",
       "</table>\n",
       "</div>"
      ],
      "text/plain": [
       "proximity_to_mrt      close        far\n",
       "pet_friendly                          \n",
       "No                47.294366  36.924176\n",
       "Yes               48.536000  28.544737"
      ]
     },
     "execution_count": 51,
     "metadata": {},
     "output_type": "execute_result"
    }
   ],
   "source": [
    "pd.pivot_table(df, index=\"pet_friendly\", values=\"price_per_unit_area\", columns=\"proximity_to_mrt\", aggfunc=\"mean\")"
   ]
  },
  {
   "cell_type": "markdown",
   "metadata": {},
   "source": [
    "TASK: Let's create a pivot table to explore the **median** number of convenience stores across all categories pet-friendly and proximity to mrt apartments in this dataset."
   ]
  },
  {
   "cell_type": "code",
   "execution_count": 52,
   "metadata": {},
   "outputs": [
    {
     "data": {
      "text/html": [
       "<div>\n",
       "<style scoped>\n",
       "    .dataframe tbody tr th:only-of-type {\n",
       "        vertical-align: middle;\n",
       "    }\n",
       "\n",
       "    .dataframe tbody tr th {\n",
       "        vertical-align: top;\n",
       "    }\n",
       "\n",
       "    .dataframe thead th {\n",
       "        text-align: right;\n",
       "    }\n",
       "</style>\n",
       "<table border=\"1\" class=\"dataframe\">\n",
       "  <thead>\n",
       "    <tr style=\"text-align: right;\">\n",
       "      <th>proximity_to_mrt</th>\n",
       "      <th>close</th>\n",
       "      <th>far</th>\n",
       "    </tr>\n",
       "    <tr>\n",
       "      <th>pet_friendly</th>\n",
       "      <th></th>\n",
       "      <th></th>\n",
       "    </tr>\n",
       "  </thead>\n",
       "  <tbody>\n",
       "    <tr>\n",
       "      <th>No</th>\n",
       "      <td>6.0</td>\n",
       "      <td>4.0</td>\n",
       "    </tr>\n",
       "    <tr>\n",
       "      <th>Yes</th>\n",
       "      <td>6.0</td>\n",
       "      <td>3.0</td>\n",
       "    </tr>\n",
       "  </tbody>\n",
       "</table>\n",
       "</div>"
      ],
      "text/plain": [
       "proximity_to_mrt  close  far\n",
       "pet_friendly                \n",
       "No                  6.0  4.0\n",
       "Yes                 6.0  3.0"
      ]
     },
     "execution_count": 52,
     "metadata": {},
     "output_type": "execute_result"
    }
   ],
   "source": [
    "pd.pivot_table(df, index=\"pet_friendly\", values=\"num_convenience_stores\", columns=\"proximity_to_mrt\", aggfunc=\"median\")"
   ]
  },
  {
   "cell_type": "markdown",
   "metadata": {},
   "source": [
    "## Confirming Hypothesis\n",
    "\n",
    "As we saw in our box-plot, it seemed like the more rooms an apartment has, the more expensive it becomes:"
   ]
  },
  {
   "cell_type": "code",
   "execution_count": 53,
   "metadata": {},
   "outputs": [
    {
     "name": "stderr",
     "output_type": "stream",
     "text": [
      "c:\\Users\\saidmf\\anaconda3\\envs\\phase1\\lib\\site-packages\\seaborn\\_oldcore.py:1498: FutureWarning: is_categorical_dtype is deprecated and will be removed in a future version. Use isinstance(dtype, CategoricalDtype) instead\n",
      "  if pd.api.types.is_categorical_dtype(vector):\n",
      "c:\\Users\\saidmf\\anaconda3\\envs\\phase1\\lib\\site-packages\\seaborn\\_oldcore.py:1498: FutureWarning: is_categorical_dtype is deprecated and will be removed in a future version. Use isinstance(dtype, CategoricalDtype) instead\n",
      "  if pd.api.types.is_categorical_dtype(vector):\n",
      "c:\\Users\\saidmf\\anaconda3\\envs\\phase1\\lib\\site-packages\\seaborn\\_oldcore.py:1498: FutureWarning: is_categorical_dtype is deprecated and will be removed in a future version. Use isinstance(dtype, CategoricalDtype) instead\n",
      "  if pd.api.types.is_categorical_dtype(vector):\n"
     ]
    },
    {
     "data": {
      "image/png": "[encoded data removed]",
      "text/plain": [
       "<Figure size 640x480 with 1 Axes>"
      ]
     },
     "metadata": {},
     "output_type": "display_data"
    }
   ],
   "source": [
    "sns.boxplot(data=df, x=\"num_of_rooms\", y=\"price_per_unit_area\", showfliers=False)\n",
    "plt.show()"
   ]
  },
  {
   "cell_type": "markdown",
   "metadata": {},
   "source": [
    "As a word of warning, we do not want to immediately jump to statistical analyses in order to come to conclusions on our dataset. Instead, we want to operate off of [first-principles](https://en.wikipedia.org/wiki/First_principle). That is, use your domain knowledge: does it cost more effort and time to build an apartment with 6-rooms than 1-room? Do people \"value\" a 6-bedroom apartment over a 1-bedroom apartment? The visuals surely tell us so, and human intuition points to this too. So maybe it's not worth our time running a t-test on this, and we would be better off figuring out if other latent variables are influencing the price.\n",
    "\n",
    "However, for the purpose of education, let's run a t-test anyway."
   ]
  },
  {
   "cell_type": "markdown",
   "metadata": {},
   "source": [
    "TASK: Create two new dataframes for only 6-bedroom apartments and 1-bedroom apartments, and save each respective dataframe into variables named `one_bed` and `six_bed` respectively. Use boolean indexing to accomplish this."
   ]
  },
  {
   "cell_type": "code",
   "execution_count": 54,
   "metadata": {},
   "outputs": [],
   "source": [
    "one_bed = df[df[\"num_of_rooms\"] == 1]\n",
    "\n",
    "six_bed = df[df[\"num_of_rooms\"] == 6]"
   ]
  },
  {
   "cell_type": "markdown",
   "metadata": {},
   "source": [
    "TASK: Observe the mean \"price_per_unit_area\" of both these dataframes."
   ]
  },
  {
   "cell_type": "code",
   "execution_count": 55,
   "metadata": {},
   "outputs": [
    {
     "data": {
      "text/plain": [
       "31.438095238095237"
      ]
     },
     "execution_count": 55,
     "metadata": {},
     "output_type": "execute_result"
    }
   ],
   "source": [
    "one_bed[\"price_per_unit_area\"].mean()"
   ]
  },
  {
   "cell_type": "code",
   "execution_count": 56,
   "metadata": {},
   "outputs": [
    {
     "data": {
      "text/plain": [
       "55.31153846153846"
      ]
     },
     "execution_count": 56,
     "metadata": {},
     "output_type": "execute_result"
    }
   ],
   "source": [
    "six_bed[\"price_per_unit_area\"].mean()"
   ]
  },
  {
   "cell_type": "markdown",
   "metadata": {},
   "source": [
    "TASK: What is a null hypothesis of this experiment regarding the difference of means between one-bedroom & six-bedroom apartments."
   ]
  },
  {
   "cell_type": "markdown",
   "metadata": {},
   "source": [
    "Answer here"
   ]
  },
  {
   "cell_type": "markdown",
   "metadata": {},
   "source": [
    "TASK: What is a alternative hypothesis of this experiment regarding the difference of means between one-bedroom & six-bedroom apartments."
   ]
  },
  {
   "cell_type": "markdown",
   "metadata": {},
   "source": [
    "Answer here"
   ]
  },
  {
   "cell_type": "markdown",
   "metadata": {},
   "source": [
    "TASK: Calculate a two-tailed t-test on these two groups of means using the `ttest_ind` method on these two groups from the `scipy.stats` package. "
   ]
  },
  {
   "cell_type": "code",
   "execution_count": 57,
   "metadata": {},
   "outputs": [
    {
     "data": {
      "text/plain": [
       "TtestResult(statistic=-11.967344119522167, pvalue=1.6051886520177151e-21, df=108.0)"
      ]
     },
     "execution_count": 57,
     "metadata": {},
     "output_type": "execute_result"
    }
   ],
   "source": [
    "# Documentation: https://docs.scipy.org/doc/scipy/reference/generated/scipy.stats.ttest_ind.html\n",
    "\n",
    "from scipy import stats \n",
    "\n",
    "stats.ttest_ind(one_bed[\"price_per_unit_area\"], six_bed[\"price_per_unit_area\"])"
   ]
  },
  {
   "cell_type": "markdown",
   "metadata": {},
   "source": [
    "TASK: What can we state about the null hypothesis given this pvalue?"
   ]
  },
  {
   "cell_type": "markdown",
   "metadata": {},
   "source": [
    "Answer here"
   ]
  }
 ],
 "metadata": {
  "kernelspec": {
   "display_name": "phase1",
   "language": "python",
   "name": "python3"
  },
  "language_info": {
   "codemirror_mode": {
    "name": "ipython",
    "version": 3
   },
   "file_extension": ".py",
   "mimetype": "text/x-python",
   "name": "python",
   "nbconvert_exporter": "python",
   "pygments_lexer": "ipython3",
   "version": "3.9.18"
  }
 },
 "nbformat": 4,
 "nbformat_minor": 2
}
