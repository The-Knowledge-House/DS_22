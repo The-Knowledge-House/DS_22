{
 "cells": [
  {
   "cell_type": "markdown",
   "metadata": {},
   "source": [
    "## 301. Remove Invalid Parentheses\n",
    "\n",
    "Given a string s that contains parentheses and letters, remove the minimum number of invalid parentheses to make the input string valid.\n",
    "\n",
    "Return all the possible results. You may return the answer in any order.\n",
    "\n",
    "Example 1:\n",
    "```\n",
    "Input: s = \"()())()\"\n",
    "Output: [\"(())()\",\"()()()\"]\n",
    "```\n",
    "\n",
    "Example 2:\n",
    "```\n",
    "Input: s = \"(a)())()\"\n",
    "Output: [\"(a())()\",\"(a)()()\"]\n",
    "```\n",
    "\n",
    "Example 3:\n",
    "```\n",
    "Input: s = \")(\"\n",
    "Output: [\"\"]\n",
    "```\n",
    "\n",
    "Constraints:\n",
    "\n",
    "1 <= s.length <= 25\n",
    "s consists of lowercase English letters and parentheses '(' and ')'.\n",
    "There will be at most 20 parentheses in s.\n",
    "\n",
    "https://leetcode.com/problems/remove-invalid-parentheses/description/"
   ]
  },
  {
   "cell_type": "code",
   "execution_count": null,
   "metadata": {},
   "outputs": [],
   "source": [
    "def removeInvalidParentheses(s):\n",
    "    pass"
   ]
  },
  {
   "cell_type": "code",
   "execution_count": null,
   "metadata": {},
   "outputs": [],
   "source": [
    "print(\"Test Case 1\", removeInvalidParentheses(\"()())()\") == [\"(())()\",\"()()()\"])\n",
    "print(\"Test Case 2\", removeInvalidParentheses(\"(a)())()\") == [\"(a())()\",\"(a)()()\"])\n",
    "print(\"Test Case 3\", removeInvalidParentheses(\")(\") == [\"\"])"
   ]
  }
 ],
 "metadata": {
  "kernelspec": {
   "display_name": "Python 3.10.7 64-bit",
   "language": "python",
   "name": "python3"
  },
  "language_info": {
   "name": "python",
   "version": "3.10.7"
  },
  "orig_nbformat": 4,
  "vscode": {
   "interpreter": {
    "hash": "369f2c481f4da34e4445cda3fffd2e751bd1c4d706f27375911949ba6bb62e1c"
   }
  }
 },
 "nbformat": 4,
 "nbformat_minor": 2
}
