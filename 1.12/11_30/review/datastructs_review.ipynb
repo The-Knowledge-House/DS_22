{
 "cells": [
  {
   "cell_type": "markdown",
   "metadata": {},
   "source": [
    "# Q1\n",
    "\n",
    "We have a dictionary called `trees` which lists countries and their respective square kilometer tree coverage. Algorithmically figure out which country has the highest square-kilometer coverage of trees."
   ]
  },
  {
   "cell_type": "code",
   "execution_count": 2,
   "metadata": {},
   "outputs": [],
   "source": [
    "trees = {\"Finland\": 90652, \"Taiwan\": 69593, \"Japan\": 49894, \"Russia\": 41396, \n",
    "\"Brazil\": 39542, \"Canada\": 36388, \"Bulgaria\": 24987, \"France\": 24436, \n",
    "\"Greece\": 24323, \"United States\": 23513, \"Turkey\": 11126, \"India\": 11109, \n",
    "\"Denmark\": 6129, \"Syria\": 534, \"Saudi Arabia\": 1}\n",
    "\n",
    "# write code here"
   ]
  },
  {
   "cell_type": "markdown",
   "metadata": {},
   "source": [
    "# Q2\n",
    "\n",
    "Algorithmically concatenate these 3 dictionaries. Keep in mind, we cannot concatenate using our traditional `+` operator."
   ]
  },
  {
   "cell_type": "code",
   "execution_count": 3,
   "metadata": {},
   "outputs": [],
   "source": [
    "dict1 = {1:10, 2:20}\n",
    "dict2 = {3:30, 4:40}\n",
    "dict3 = {5:50,6:60}\n",
    "\n",
    "# write code here"
   ]
  },
  {
   "cell_type": "markdown",
   "metadata": {},
   "source": [
    "# Q3\n",
    "\n",
    "Algorithmically check if the following list is empty or not. Consider, what is the length of a list when it is empty?"
   ]
  },
  {
   "cell_type": "code",
   "execution_count": 4,
   "metadata": {},
   "outputs": [],
   "source": [
    "import random\n",
    "lst = [i for i in range(0,random.randint(0,5))]\n",
    "\n",
    "# write code here"
   ]
  },
  {
   "cell_type": "markdown",
   "metadata": {},
   "source": [
    "# Q4\n",
    "\n",
    "Create a function called `findr` that takes in a string and an index position, and returns the character located at that index position. Return -1 if the index position does not exist."
   ]
  },
  {
   "cell_type": "code",
   "execution_count": null,
   "metadata": {},
   "outputs": [],
   "source": [
    "def findr(i, word):\n",
    "    pass\n",
    "\n",
    "print(findr(0, \"hello\") == \"h\")\n",
    "print(findr(2, \"hello\") == \"l\")\n",
    "print(findr(3, \"abc\") == -1)"
   ]
  },
  {
   "cell_type": "markdown",
   "metadata": {},
   "source": [
    "# Q5\n",
    "\n",
    "Create a function called `counter` that takes in a sentence and returns a dictionary containing the frequency of all letters that appear within this sentence.\n",
    "\n",
    "Example\n",
    "```\n",
    "Input = \"hello world!\"\n",
    "Output = {\"h\" : 1 ,\"e\" : 1 ,\"l\" : 3 ,\"o\" : 2, \" \": 1, \"w\": 1, \"r\": 1, \"d\": 1, \"!\": 1}\n",
    "```"
   ]
  },
  {
   "cell_type": "code",
   "execution_count": null,
   "metadata": {},
   "outputs": [],
   "source": [
    "def counter(sentence):\n",
    "    pass\n",
    "\n",
    "print(counter(\"hello world!\") == {\"h\" : 1 ,\"e\" : 1 ,\"l\" : 3 ,\"o\" : 2, \" \": 1, \"w\": 1, \"r\": 1, \"d\": 1, \"!\": 1})"
   ]
  }
 ],
 "metadata": {
  "kernelspec": {
   "display_name": "Python 3.10.7 64-bit",
   "language": "python",
   "name": "python3"
  },
  "language_info": {
   "codemirror_mode": {
    "name": "ipython",
    "version": 3
   },
   "file_extension": ".py",
   "mimetype": "text/x-python",
   "name": "python",
   "nbconvert_exporter": "python",
   "pygments_lexer": "ipython3",
   "version": "3.10.7"
  },
  "orig_nbformat": 4,
  "vscode": {
   "interpreter": {
    "hash": "369f2c481f4da34e4445cda3fffd2e751bd1c4d706f27375911949ba6bb62e1c"
   }
  }
 },
 "nbformat": 4,
 "nbformat_minor": 2
}
