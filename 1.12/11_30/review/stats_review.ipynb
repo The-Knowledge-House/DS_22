{
 "cells": [
  {
   "cell_type": "markdown",
   "metadata": {},
   "source": [
    "# Q1\n",
    "\n",
    "Define the central limit theorem. Try to put this in your words before consulting external knowledge."
   ]
  },
  {
   "cell_type": "markdown",
   "metadata": {},
   "source": []
  },
  {
   "cell_type": "markdown",
   "metadata": {},
   "source": [
    "# Q2\n",
    "\n",
    "Define the law of large numbers. Try to put this in your words before consulting external knowledge."
   ]
  },
  {
   "cell_type": "markdown",
   "metadata": {},
   "source": []
  },
  {
   "cell_type": "markdown",
   "metadata": {},
   "source": [
    "# Q3\n",
    "\n",
    "What other measure do I need before computing standard deviation?"
   ]
  },
  {
   "cell_type": "code",
   "execution_count": null,
   "metadata": {},
   "outputs": [],
   "source": [
    "# print(\"Mode\")\n",
    "# print(\"Variance\")\n",
    "# print(\"Median\")\n",
    "# print(\"Distribution\")"
   ]
  },
  {
   "cell_type": "markdown",
   "metadata": {},
   "source": [
    "# Q4\n",
    "\n",
    "Which line plot is best for solely representing the trend of data over time?"
   ]
  },
  {
   "cell_type": "code",
   "execution_count": null,
   "metadata": {},
   "outputs": [],
   "source": [
    "# print(\"Bar Graph\")\n",
    "# print(\"Histogram\")\n",
    "# print(\"Box & Whisker Plot\")\n",
    "# print(\"Line Plot\")"
   ]
  },
  {
   "cell_type": "markdown",
   "metadata": {},
   "source": [
    "# Q5\n",
    "\n",
    "Using the `matplotlib.pyplot` package, create a line plot of the average temperature of NY against the progression of months. Ensure that your months are in the x-axis and your temp is the y-axis. Be sure to appropriately label this graph as well."
   ]
  },
  {
   "cell_type": "code",
   "execution_count": null,
   "metadata": {},
   "outputs": [],
   "source": [
    "temp = [40,\t42,\t51,\t61,\t71,\t79,\t84,\t82,\t75,\t65,\t54,\t45]\n",
    "month = [i for i in range(1, 13)]\n",
    "\n",
    "# write code here"
   ]
  }
 ],
 "metadata": {
  "kernelspec": {
   "display_name": "Python 3.10.7 64-bit",
   "language": "python",
   "name": "python3"
  },
  "language_info": {
   "name": "python",
   "version": "3.10.7"
  },
  "orig_nbformat": 4,
  "vscode": {
   "interpreter": {
    "hash": "369f2c481f4da34e4445cda3fffd2e751bd1c4d706f27375911949ba6bb62e1c"
   }
  }
 },
 "nbformat": 4,
 "nbformat_minor": 2
}
