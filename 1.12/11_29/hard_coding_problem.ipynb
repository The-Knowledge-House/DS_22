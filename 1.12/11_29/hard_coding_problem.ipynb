{
 "cells": [
  {
   "cell_type": "markdown",
   "metadata": {},
   "source": [
    "## 41. First Missing Positive\n",
    "\n",
    "Given an unsorted integer array nums, return the smallest missing positive integer.\n",
    "\n",
    "You must implement an algorithm that runs in O(n) time and uses constant extra space.\n",
    "\n",
    "Example 1:\n",
    "```\n",
    "Input: nums = [1,2,0]\n",
    "Output: 3\n",
    "Explanation: The numbers in the range [1,2] are all in the array.\n",
    "```\n",
    "\n",
    "Example 2:\n",
    "```\n",
    "Input: nums = [3,4,-1,1]\n",
    "Output: 2\n",
    "Explanation: 1 is in the array but 2 is missing.\n",
    "```\n",
    "\n",
    "Example 3:\n",
    "```\n",
    "Input: nums = [7,8,9,11,12]\n",
    "Output: 1\n",
    "Explanation: The smallest positive integer 1 is missing.\n",
    "```\n",
    "\n",
    "Submit here: https://leetcode.com/problems/first-missing-positive/"
   ]
  },
  {
   "cell_type": "code",
   "execution_count": null,
   "metadata": {},
   "outputs": [],
   "source": [
    "def firstMissingPositive(nums):\n",
    "    pass"
   ]
  },
  {
   "cell_type": "code",
   "execution_count": null,
   "metadata": {},
   "outputs": [],
   "source": [
    "print(\"Test Case 1:\", firstMissingPositive([1,2,0]) == 3)\n",
    "print(\"Test Case 2:\", firstMissingPositive([3,4,-1,1]) == 2)\n",
    "print(\"Test Case 3:\", firstMissingPositive([7,8,9,11,12]) == 1)"
   ]
  }
 ],
 "metadata": {
  "kernelspec": {
   "display_name": "Python 3.10.7 64-bit",
   "language": "python",
   "name": "python3"
  },
  "language_info": {
   "name": "python",
   "version": "3.10.7"
  },
  "orig_nbformat": 4,
  "vscode": {
   "interpreter": {
    "hash": "369f2c481f4da34e4445cda3fffd2e751bd1c4d706f27375911949ba6bb62e1c"
   }
  }
 },
 "nbformat": 4,
 "nbformat_minor": 2
}
