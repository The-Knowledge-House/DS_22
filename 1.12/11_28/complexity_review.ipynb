{
 "cells": [
  {
   "cell_type": "markdown",
   "metadata": {},
   "source": [
    "## Q1\n",
    "\n",
    "What is the time and space complexity of the following algorithm?"
   ]
  },
  {
   "cell_type": "code",
   "execution_count": null,
   "metadata": {},
   "outputs": [],
   "source": [
    "def func1(N, M):\n",
    "    a = 0\n",
    "    b = 0\n",
    "    for i in range(len(N)):\n",
    "        a = a + 1\n",
    "    \n",
    "    for i in range(len(M)):\n",
    "        b = b + 1\n",
    "    print(a, b)\n",
    "\n",
    "func1([1,2,3,4], [1,2,3,4])"
   ]
  },
  {
   "cell_type": "markdown",
   "metadata": {},
   "source": [
    "## Q2\n",
    "\n",
    "What is the time and space complexity of the following algorithm?"
   ]
  },
  {
   "cell_type": "code",
   "execution_count": null,
   "metadata": {},
   "outputs": [],
   "source": [
    "def func2(N):\n",
    "    a = 0\n",
    "    for i in range(len(N)):\n",
    "        for j in reversed(range(i,len(N))):\n",
    "            a = a + i + j\n",
    "    print(a)\n",
    "\n",
    "func2([1,2,3,4])"
   ]
  },
  {
   "cell_type": "markdown",
   "metadata": {},
   "source": [
    "## Q3\n",
    "\n",
    "What is the time and space complexity of the following algorithm?"
   ]
  },
  {
   "cell_type": "code",
   "execution_count": null,
   "metadata": {},
   "outputs": [],
   "source": [
    "def func3(N):\n",
    "  k = 0\n",
    "  n = len(N)\n",
    "  for i in range(n//2,n):\n",
    "    for j in range(2,n,pow(2,j)):\n",
    "          k = k + n / 2\n",
    "  print(k)\n",
    "\n",
    "func3([1,2,3,4])"
   ]
  },
  {
   "cell_type": "markdown",
   "metadata": {},
   "source": [
    "## Q4\n",
    "\n",
    "What is the time and space complexity of the following algorithm?"
   ]
  },
  {
   "cell_type": "code",
   "execution_count": null,
   "metadata": {},
   "outputs": [],
   "source": [
    "def func4(N):\n",
    "    a = 0\n",
    "    i = len(N)\n",
    "    while (i > 0):\n",
    "        a += i\n",
    "        print(i)\n",
    "        i //= 2\n",
    "\n",
    "func4([1,2,3,4,5,6,7,8])"
   ]
  },
  {
   "cell_type": "markdown",
   "metadata": {},
   "source": [
    "## Q5\n",
    "\n",
    "What is the time and space complexity of the following algorithm?"
   ]
  },
  {
   "cell_type": "code",
   "execution_count": null,
   "metadata": {},
   "outputs": [],
   "source": [
    "def func5(n):\n",
    "    square_list = []\n",
    "    for num in n:\n",
    "        square_list.append(num * num)\n",
    "\n",
    "    return square_list\n",
    "\n",
    "func5([1,2,3,4])"
   ]
  }
 ],
 "metadata": {
  "kernelspec": {
   "display_name": "Python 3.10.7 64-bit",
   "language": "python",
   "name": "python3"
  },
  "language_info": {
   "name": "python",
   "version": "3.10.7"
  },
  "orig_nbformat": 4,
  "vscode": {
   "interpreter": {
    "hash": "369f2c481f4da34e4445cda3fffd2e751bd1c4d706f27375911949ba6bb62e1c"
   }
  }
 },
 "nbformat": 4,
 "nbformat_minor": 2
}
