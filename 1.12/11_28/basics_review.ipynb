{
 "cells": [
  {
   "cell_type": "markdown",
   "metadata": {},
   "source": [
    "### Calculator\n",
    "Create a program that takes two numbers from a user (input) and calculates their sum and difference.\n",
    "\n",
    "Example\n",
    "\n",
    "    Input first number: 10\n",
    "    Input second number: 5\n",
    "\n",
    "    sum: 15\n",
    "    difference: 5"
   ]
  },
  {
   "cell_type": "code",
   "execution_count": null,
   "metadata": {},
   "outputs": [],
   "source": [
    "# Code here"
   ]
  },
  {
   "cell_type": "markdown",
   "metadata": {},
   "source": [
    "### Loop 1\n",
    "\n",
    "    Create a Loop that prints \"I understand loops!\" 10 times."
   ]
  },
  {
   "cell_type": "code",
   "execution_count": null,
   "metadata": {},
   "outputs": [],
   "source": [
    "# Code here"
   ]
  },
  {
   "cell_type": "markdown",
   "metadata": {},
   "source": [
    "### Loop 2\n",
    "\n",
    "        Create a loop that prints all of the numbers between 1 and 100(inclusiuve) that are divisible by 5"
   ]
  },
  {
   "cell_type": "code",
   "execution_count": null,
   "metadata": {},
   "outputs": [],
   "source": [
    "# Code here"
   ]
  },
  {
   "cell_type": "markdown",
   "metadata": {},
   "source": [
    "## Loop 3\n",
    "\n",
    "Create a for-loop that prints out all numbers from 5 to 15\n",
    "\n",
    "Expected Output\n",
    "```\n",
    "5\n",
    "6\n",
    "7\n",
    "8\n",
    "9\n",
    "10\n",
    "11\n",
    "12\n",
    "13\n",
    "14\n",
    "15\n",
    "```"
   ]
  },
  {
   "cell_type": "code",
   "execution_count": null,
   "metadata": {},
   "outputs": [],
   "source": [
    "# Code here"
   ]
  },
  {
   "cell_type": "markdown",
   "metadata": {},
   "source": [
    "## Even For-Loop\n",
    "\n",
    "Create a for-loop that prints out all even numbers from 1 to 10\n",
    "\n",
    "Expected Output\n",
    "```\n",
    "2\n",
    "4\n",
    "6\n",
    "8\n",
    "10\n",
    "```"
   ]
  },
  {
   "cell_type": "code",
   "execution_count": null,
   "metadata": {},
   "outputs": [],
   "source": [
    "# Code here"
   ]
  },
  {
   "cell_type": "markdown",
   "metadata": {},
   "source": [
    "## Backwards For-Loop\n",
    "\n",
    "Create a loop that goes backwards from 50 to 30 by 3.\n",
    "\n",
    "Expected Output\n",
    "```\n",
    "50\n",
    "47\n",
    "44\n",
    "41\n",
    "38\n",
    "35\n",
    "32\n",
    "```\n",
    "\n",
    "Recall how we can change the `range()` function to start and end any point we desire."
   ]
  },
  {
   "cell_type": "code",
   "execution_count": null,
   "metadata": {},
   "outputs": [],
   "source": [
    "# Code here"
   ]
  },
  {
   "cell_type": "markdown",
   "metadata": {},
   "source": [
    "## FizzBuzz\n",
    "\n",
    "Create a while loop that goes through integers of 1 to 50 and prints \"Fizz\" for multiples of 3, and \"Buzz\" for multiples of \"5\", and \"FizzBuzz\" for multiples of 3 and 5."
   ]
  },
  {
   "cell_type": "code",
   "execution_count": null,
   "metadata": {},
   "outputs": [],
   "source": [
    "# Code here"
   ]
  }
 ],
 "metadata": {
  "kernelspec": {
   "display_name": "Python 3.10.7 64-bit",
   "language": "python",
   "name": "python3"
  },
  "language_info": {
   "name": "python",
   "version": "3.10.7"
  },
  "orig_nbformat": 4,
  "vscode": {
   "interpreter": {
    "hash": "369f2c481f4da34e4445cda3fffd2e751bd1c4d706f27375911949ba6bb62e1c"
   }
  }
 },
 "nbformat": 4,
 "nbformat_minor": 2
}
