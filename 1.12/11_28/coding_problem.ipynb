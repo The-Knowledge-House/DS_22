{
 "cells": [
  {
   "cell_type": "markdown",
   "metadata": {},
   "source": [
    "## 387. First Unique Character in a String\n",
    "\n",
    "Given a string s, create a function called `firstUniqChar(s)` to find the first non-repeating character in `s` and return its index. If it does not exist, return -1.\n",
    "\n",
    "Example 1\n",
    "```\n",
    "Input: s = \"leetcode\"\n",
    "Output: 0\n",
    "```\n",
    "\n",
    "Example 2\n",
    "```\n",
    "Input: s = \"loveleetcode\"\n",
    "Output: 2\n",
    "```\n",
    "\n",
    "Example 3\n",
    "```\n",
    "Input: s = \"aabb\"\n",
    "Output: -1\n",
    "```\n",
    "\n",
    "Upon completion, figure out if you can get a better runtime. Submit your answer here: https://leetcode.com/problems/first-unique-character-in-a-string/description/ \n",
    "\n",
    "Submit your code for feedback as well on Google classroom."
   ]
  },
  {
   "cell_type": "code",
   "execution_count": null,
   "metadata": {},
   "outputs": [],
   "source": [
    "# write code here\n",
    "def firstUniqChar(s):\n",
    "    pass"
   ]
  },
  {
   "cell_type": "code",
   "execution_count": null,
   "metadata": {},
   "outputs": [],
   "source": [
    "print(\"Test Case 1:\", firstUniqChar(\"leetcode\") == 0)\n",
    "print(\"Test Case 2:\", firstUniqChar(\"loveleetcode\") == 2)\n",
    "print(\"Test Case 3:\", firstUniqChar(\"aabb\") == -1)"
   ]
  }
 ],
 "metadata": {
  "kernelspec": {
   "display_name": "Python 3.10.7 64-bit",
   "language": "python",
   "name": "python3"
  },
  "language_info": {
   "name": "python",
   "version": "3.10.7"
  },
  "orig_nbformat": 4,
  "vscode": {
   "interpreter": {
    "hash": "369f2c481f4da34e4445cda3fffd2e751bd1c4d706f27375911949ba6bb62e1c"
   }
  }
 },
 "nbformat": 4,
 "nbformat_minor": 2
}
