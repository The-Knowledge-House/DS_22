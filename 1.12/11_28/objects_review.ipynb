{
 "cells": [
  {
   "cell_type": "markdown",
   "metadata": {},
   "source": [
    "## Class Creation\n",
    "\n",
    "Create a class called  `Statistics` that will take in a list of numbers in the constructor and will contain functions that compute the mean, the max, and the min of these list of numbers.\n",
    "\n",
    "Write a docstring for this class as well."
   ]
  },
  {
   "cell_type": "code",
   "execution_count": null,
   "metadata": {},
   "outputs": [],
   "source": [
    "# write code here"
   ]
  },
  {
   "cell_type": "code",
   "execution_count": null,
   "metadata": {},
   "outputs": [],
   "source": [
    "## This code is purely for testing. Do not modify\n",
    "\n",
    "test = Statistics([1,2,3,4,5,6,7,8,9,10])\n",
    "print(test.get_mean())\n",
    "print(test.get_max())\n",
    "print(test.get_min())"
   ]
  },
  {
   "cell_type": "markdown",
   "metadata": {},
   "source": [
    "## Q1\n",
    "\n",
    "What method is the name of the called when an object is created?\n",
    "\n",
    "Uncomment the correct method. We are looking for the correct answer inside of the print function & quotes."
   ]
  },
  {
   "cell_type": "code",
   "execution_count": null,
   "metadata": {},
   "outputs": [],
   "source": [
    "# print(\"self\")\n",
    "# print(\"init\")\n",
    "# print(\"__init__\")\n",
    "# print(\"class\")"
   ]
  },
  {
   "cell_type": "markdown",
   "metadata": {},
   "source": [
    "## Q2\n",
    "\n",
    "Which would be the proper line of code to assign an instance variable called \"num\"?\n",
    "\n",
    "Uncomment the correct line of code. We are looking for the correct answer inside of the print function & quotes."
   ]
  },
  {
   "cell_type": "code",
   "execution_count": null,
   "metadata": {},
   "outputs": [],
   "source": [
    "# print(\"num = num\")\n",
    "# print(\"self.num = num\")\n",
    "# print(\"self = self\")\n",
    "# print(\"num.self = self\")"
   ]
  },
  {
   "cell_type": "markdown",
   "metadata": {},
   "source": [
    "## Class Creation II\n",
    "\n",
    "After using a competitor's Python `Calculator` class for the past decade, your company has decided to allocate resources to create its own Python `Calculator` class. This class will take in two numbers (ints or floats), and will allow us to add, subtract, multiply, and divide. \n",
    "\n",
    "The docstring was handed down to you from another programmer, so all you need to implement is the:\n",
    "\n",
    "* `__init__` method, which will take in two numbers\n",
    "* `add()` method, which will calculate the sum\n",
    "* `subtract()` method, which will calculate the difference\n",
    "* `multiply()` method, which will calculate the product\n",
    "* `divide()` method which will calculate the quotient. \n",
    "* `pow()` method, which will exponentiate the first number by the second number. \n",
    "\n",
    "Modify the code-block below to complete this section of the lab.\n",
    "\n",
    "Use the code-block underneath this block to test your code.\n"
   ]
  },
  {
   "cell_type": "code",
   "execution_count": null,
   "metadata": {},
   "outputs": [],
   "source": [
    "# write code here"
   ]
  },
  {
   "cell_type": "code",
   "execution_count": null,
   "metadata": {},
   "outputs": [],
   "source": [
    "## do not modify code below! \n",
    "\n",
    "test = Calculator(10, 20)\n",
    "print(test.add())\n",
    "print(test.subtract())\n",
    "print(test.multiply())\n",
    "print(test.divide())\n",
    "print(test.pow())"
   ]
  }
 ],
 "metadata": {
  "kernelspec": {
   "display_name": "Python 3.10.7 64-bit",
   "language": "python",
   "name": "python3"
  },
  "language_info": {
   "name": "python",
   "version": "3.10.7 (tags/v3.10.7:6cc6b13, Sep  5 2022, 14:08:36) [MSC v.1933 64 bit (AMD64)]"
  },
  "orig_nbformat": 4,
  "vscode": {
   "interpreter": {
    "hash": "369f2c481f4da34e4445cda3fffd2e751bd1c4d706f27375911949ba6bb62e1c"
   }
  }
 },
 "nbformat": 4,
 "nbformat_minor": 2
}
