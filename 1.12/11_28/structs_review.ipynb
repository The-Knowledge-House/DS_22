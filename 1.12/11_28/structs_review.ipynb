{
 "cells": [
  {
   "cell_type": "markdown",
   "metadata": {},
   "source": [
    "## List Creation\n",
    "\n",
    "Create a list that contains the following words:\n",
    "\n",
    "* \"mean\"\n",
    "* \"median\"\n",
    "* \"mode\"\n",
    "* \"variance\"\n",
    "\n",
    "Then use a for-loop to print out each element.\n",
    "\n",
    "Expected Output\n",
    "```\n",
    "mean\n",
    "median\n",
    "mode\n",
    "variance\n",
    "```\n"
   ]
  },
  {
   "cell_type": "code",
   "execution_count": null,
   "metadata": {},
   "outputs": [],
   "source": [
    "# code here"
   ]
  },
  {
   "cell_type": "markdown",
   "metadata": {},
   "source": [
    "## List Indexing\n",
    "\n",
    "Use list-indexing & functions in order to print\n",
    "* the first number of `items`\n",
    "* the last number of `items`\n",
    "* the length of `items`\n",
    "\n",
    "Note that this list is randomly created each time you run!\n",
    "\n",
    "Expected Output\n",
    "```\n",
    "List: [1, 13, 1, 12, 15, 9, 7, 20, 9, 8]\n",
    "\n",
    "First number: 1\n",
    "Last number: 8\n",
    "Length: 10\n",
    "```"
   ]
  },
  {
   "cell_type": "code",
   "execution_count": null,
   "metadata": {},
   "outputs": [],
   "source": [
    "# Create a random list\n",
    "import random\n",
    "items = [random.randint(0, 20) for i in range(10)]\n",
    "print(\"List\", items)\n",
    "\n",
    "# code here"
   ]
  },
  {
   "cell_type": "markdown",
   "metadata": {},
   "source": [
    "## Loop & Print\n",
    "\n",
    "Create a for-loop that will print out all numbers the `items` list."
   ]
  },
  {
   "cell_type": "code",
   "execution_count": null,
   "metadata": {},
   "outputs": [],
   "source": [
    "import random\n",
    "items = [random.randint(0, 20) for i in range(10)]\n",
    "print(\"List\", items)\n",
    "\n",
    "# write solution here"
   ]
  },
  {
   "cell_type": "markdown",
   "metadata": {},
   "source": [
    "## Loop & Print (Evens-only)\n",
    "\n",
    "Create a for-loop that will print out all even numbers the `items` list."
   ]
  },
  {
   "cell_type": "code",
   "execution_count": null,
   "metadata": {},
   "outputs": [],
   "source": [
    "import random\n",
    "items = [random.randint(0, 20) for i in range(10)]\n",
    "print(\"List\", items)\n",
    "\n",
    "# write solution here"
   ]
  },
  {
   "cell_type": "markdown",
   "metadata": {},
   "source": [
    "## Loop & Print (Odds-only)\n",
    "\n",
    "Create a for-loop that will print out all odd numbers the `items` list."
   ]
  },
  {
   "cell_type": "code",
   "execution_count": null,
   "metadata": {},
   "outputs": [],
   "source": [
    "import random\n",
    "items = [random.randint(0, 20) for i in range(10)]\n",
    "print(\"List\", items)\n",
    "\n",
    "# write solution here"
   ]
  },
  {
   "cell_type": "markdown",
   "metadata": {},
   "source": [
    "## Loop & Print Sets\n",
    "\n",
    "Using a for-loop, remove every even number from the set and then print out the set.\n",
    "\n",
    "Expected Output\n",
    "```\n",
    "original set: {1, 13, 12, 15, 7, 20, 9, 8}\n",
    "new set: {1, 13, 15, 7, 9}\n",
    "```"
   ]
  },
  {
   "cell_type": "code",
   "execution_count": null,
   "metadata": {},
   "outputs": [],
   "source": [
    "# set created here\n",
    "numbers = {1, 13, 1, 12, 15, 9, 7, 20, 9, 8}\n",
    "\n",
    "# write solution here"
   ]
  },
  {
   "cell_type": "markdown",
   "metadata": {},
   "source": [
    "## Group Intersection\n",
    "\n",
    "Using [sets documentation](https://docs.python.org/3/library/stdtypes.html#set), print out the [intersection](https://en.wikipedia.org/wiki/Intersection_(set_theory)) and [union](https://en.wikipedia.org/wiki/Union_(set_theory)) of these two groups that belong to two distinct organizations."
   ]
  },
  {
   "cell_type": "code",
   "execution_count": null,
   "metadata": {},
   "outputs": [],
   "source": [
    "# print out the intersection & union of these two groups\n",
    "python_prog = {\"Yuri\", \"Jazmin\", \"Alabi\", \"Tom\", \"Phil\"}\n",
    "java_prog = {\"John\", \"Alabi\", \"Jazmin\", \"Iziah\", \"Eliza\"}\n",
    "\n",
    "# write solution here"
   ]
  },
  {
   "cell_type": "markdown",
   "metadata": {},
   "source": [
    "## Dictionary Creation\n",
    "\n",
    "Create a dictionary of the following key-value pairs:\n",
    "\n",
    "* \"apple\" : \"red\"\n",
    "* \"orange\": \"orange\"\n",
    "* \"lime\": \"green\"\n",
    "* \"banana\": \"yellow\""
   ]
  },
  {
   "cell_type": "code",
   "execution_count": null,
   "metadata": {},
   "outputs": [],
   "source": [
    "# write solution here"
   ]
  },
  {
   "cell_type": "markdown",
   "metadata": {},
   "source": [
    "## Loop & Print Dictionary\n",
    "\n",
    "Using for-loops & dictionary syntax, loop and print out each key-value pair of the dictionary you've created above."
   ]
  },
  {
   "cell_type": "code",
   "execution_count": null,
   "metadata": {},
   "outputs": [],
   "source": [
    "# write solution here"
   ]
  },
  {
   "cell_type": "markdown",
   "metadata": {},
   "source": [
    "## Lists to Dictionaries\n",
    "\n",
    "Re-interpret the two lists below into one dictionary. The list labeled `items` will be the keys, while the list labeled `prices` will be the associated values. Use a for-loop to automatically create this dictionary, and print out your results afterwards.\n",
    "\n",
    "Expected Output\n",
    "```\n",
    "Items list: [\"apple\", \"banana\", \"mango\"]\n",
    "Prices list: [0.89, 1.33, 1.55]\n",
    "\n",
    "{“apple”: 0.89, “banana”: 1.33, “mango”:1.55}\n",
    "```"
   ]
  },
  {
   "cell_type": "code",
   "execution_count": null,
   "metadata": {},
   "outputs": [],
   "source": [
    "items = [\"apple\", \"banana\", \"mango\"]\n",
    "prices = [0.89, 1.33, 1.55]\n",
    "\n",
    "# write solution here"
   ]
  }
 ],
 "metadata": {
  "kernelspec": {
   "display_name": "Python 3.10.7 64-bit",
   "language": "python",
   "name": "python3"
  },
  "language_info": {
   "name": "python",
   "version": "3.10.7"
  },
  "orig_nbformat": 4,
  "vscode": {
   "interpreter": {
    "hash": "369f2c481f4da34e4445cda3fffd2e751bd1c4d706f27375911949ba6bb62e1c"
   }
  }
 },
 "nbformat": 4,
 "nbformat_minor": 2
}
