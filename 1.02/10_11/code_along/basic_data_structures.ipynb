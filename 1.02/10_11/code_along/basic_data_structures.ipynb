{
 "cells": [
  {
   "cell_type": "markdown",
   "id": "22408be5",
   "metadata": {},
   "source": [
    "# Basic Data Structures\n",
    "This material is adapted from Runestone Problem Solving with Data Structures in Python Ch. 3. We will be using the examples in the book to showcase basic data structures for student awareness"
   ]
  },
  {
   "cell_type": "markdown",
   "id": "43eac080",
   "metadata": {},
   "source": [
    "## Stack\n",
    "From Runestone:\n",
    "\n",
    "The stack abstract data type is defined by the following structure and operations. A stack is structured, as described above, as an ordered collection of items where items are added to and removed from the end called the top. Stacks are ordered LIFO (last in first out). The stack operations are given below.\n",
    "\n",
    "We do this so that we can plan out our function and tool design. Without it, we would just make things willy nilly and not be very productive.\n",
    "\n",
    "Stack() creates a new stack that is empty. It needs no parameters and returns an empty stack.\n",
    "\n",
    "push(item) adds a new item to the top of the stack. It needs the item and returns nothing.\n",
    "\n",
    "pop() removes the top item from the stack. It needs no parameters and returns the item. The stack is modified.\n",
    "\n",
    "peek() returns the top item from the stack but does not remove it. It needs no parameters. The stack is not modified.\n",
    "\n",
    "is_empty() tests to see whether the stack is empty. It needs no parameters and returns a boolean value.\n",
    "\n",
    "size() returns the number of items on the stack. It needs no parameters and returns an integer.\n",
    "\n",
    "For example, if s is a stack that has been created and starts out empty, then Table 1 shows the results of a sequence of stack operations. Under Stack Contents, the top item is listed at the far right."
   ]
  },
  {
   "cell_type": "code",
   "execution_count": 4,
   "id": "ef0c9e2a",
   "metadata": {},
   "outputs": [],
   "source": [
    "# Lets go through Runestone 3.5, type out each part of the stack and talk about what it means\n"
   ]
  },
  {
   "cell_type": "code",
   "execution_count": 2,
   "id": "a146f369",
   "metadata": {},
   "outputs": [
    {
     "name": "stdout",
     "output_type": "stream",
     "text": [
      "True\n",
      "dog\n",
      "3\n",
      "False\n",
      "8.4\n",
      "True\n",
      "2\n"
     ]
    }
   ],
   "source": [
    "# s = Stack()\n",
    "\n",
    "# print(s.is_empty())\n",
    "# s.push(4)\n",
    "# s.push(\"dog\")\n",
    "# print(s.peek())\n",
    "# s.push(True)\n",
    "# print(s.size())\n",
    "# print(s.is_empty())\n",
    "# s.push(8.4)\n",
    "# print(s.pop())\n",
    "# print(s.pop())\n",
    "# print(s.size())"
   ]
  },
  {
   "cell_type": "code",
   "execution_count": null,
   "id": "83744712",
   "metadata": {},
   "outputs": [],
   "source": []
  },
  {
   "cell_type": "markdown",
   "id": "cc818b07",
   "metadata": {},
   "source": [
    "## Queues\n",
    "\n",
    "The queue abstract data type is defined by the following structure and operations. A queue is structured, as described above, as an ordered collection of items which are added at one end, called the rear, and removed from the other end, called the front. Queues maintain a FIFO ordering property. The queue operations are given below.\n",
    "\n",
    "Queue() creates a new queue that is empty. It needs no parameters and returns an empty queue.\n",
    "\n",
    "enqueue(item) adds a new item to the rear of the queue. It needs the item and returns nothing.\n",
    "\n",
    "dequeue() removes the front item from the queue. It needs no parameters and returns the item. The queue is modified.\n",
    "\n",
    "is_empty() tests to see whether the queue is empty. It needs no parameters and returns a boolean value.\n",
    "\n",
    "size() returns the number of items in the queue. It needs no parameters and returns an integer.\n",
    "\n",
    "As an example, if we assume that q is a queue that has been created and is currently empty, then Table 5 shows the results of a sequence of queue operations. The queue contents are shown such that the front is on the right. The first item enqueued was 4 so it is the first item returned by dequeue."
   ]
  },
  {
   "cell_type": "code",
   "execution_count": null,
   "id": "cff6e968",
   "metadata": {},
   "outputs": [],
   "source": [
    "# Lets go through Runestone 3.10, type out each part of the stack and talk about what it means\n"
   ]
  },
  {
   "cell_type": "code",
   "execution_count": null,
   "id": "41c3f1a7",
   "metadata": {},
   "outputs": [],
   "source": [
    "q = Queue()\n",
    "q.enqueue(4)\n",
    "q.enqueue(\"dog\")\n",
    "q.enqueue(True)\n",
    "print(q.size())\n",
    "q.size()"
   ]
  },
  {
   "cell_type": "code",
   "execution_count": null,
   "id": "62141203",
   "metadata": {},
   "outputs": [],
   "source": [
    "q.is_empty()\n",
    "q.enqueue(8.4)\n",
    "q.dequeue()\n",
    "q.dequeue()\n",
    "q.size()"
   ]
  },
  {
   "cell_type": "code",
   "execution_count": null,
   "id": "3fddd8c3",
   "metadata": {},
   "outputs": [],
   "source": []
  },
  {
   "cell_type": "markdown",
   "id": "125ed4b4",
   "metadata": {},
   "source": [
    "### Fibonnaci\n",
    "\n",
    "Lets try implementing Fibonnaci together! Try not to scroll too far down and spoil the answer!"
   ]
  },
  {
   "cell_type": "code",
   "execution_count": null,
   "id": "0f1057b6",
   "metadata": {},
   "outputs": [],
   "source": []
  },
  {
   "cell_type": "code",
   "execution_count": null,
   "id": "b07cf89f",
   "metadata": {},
   "outputs": [],
   "source": []
  },
  {
   "cell_type": "code",
   "execution_count": null,
   "id": "d40d8376",
   "metadata": {},
   "outputs": [],
   "source": []
  },
  {
   "cell_type": "code",
   "execution_count": null,
   "id": "65bd6468",
   "metadata": {},
   "outputs": [],
   "source": []
  },
  {
   "cell_type": "code",
   "execution_count": null,
   "id": "b422a7c2",
   "metadata": {},
   "outputs": [],
   "source": []
  },
  {
   "cell_type": "code",
   "execution_count": null,
   "id": "e0791189",
   "metadata": {},
   "outputs": [],
   "source": []
  },
  {
   "cell_type": "code",
   "execution_count": null,
   "id": "550cfe0b",
   "metadata": {},
   "outputs": [],
   "source": []
  },
  {
   "cell_type": "code",
   "execution_count": null,
   "id": "d35e0375",
   "metadata": {},
   "outputs": [],
   "source": []
  },
  {
   "cell_type": "code",
   "execution_count": null,
   "id": "be3d65b9",
   "metadata": {},
   "outputs": [],
   "source": []
  },
  {
   "cell_type": "code",
   "execution_count": null,
   "id": "476af9b3",
   "metadata": {},
   "outputs": [],
   "source": []
  },
  {
   "cell_type": "code",
   "execution_count": null,
   "id": "922e8827",
   "metadata": {},
   "outputs": [],
   "source": []
  },
  {
   "cell_type": "code",
   "execution_count": null,
   "id": "14a60ea3",
   "metadata": {},
   "outputs": [],
   "source": [
    "# Python program to display the Fibonacci sequence\n",
    "\n",
    "def recur_fibo(n):\n",
    "   if n <= 1:\n",
    "       return n\n",
    "   else:\n",
    "       return(recur_fibo(n-1) + recur_fibo(n-2))\n",
    "\n",
    "nterms = 10\n",
    "\n",
    "# check if the number of terms is valid\n",
    "if nterms <= 0:\n",
    "   print(\"Plese enter a positive integer\")\n",
    "else:\n",
    "   print(\"Fibonacci sequence:\")\n",
    "   for i in range(nterms):\n",
    "       print(recur_fibo(i))"
   ]
  }
 ],
 "metadata": {
  "kernelspec": {
   "display_name": "Python (nycdot)",
   "language": "python",
   "name": "nycdot"
  },
  "language_info": {
   "codemirror_mode": {
    "name": "ipython",
    "version": 3
   },
   "file_extension": ".py",
   "mimetype": "text/x-python",
   "name": "python",
   "nbconvert_exporter": "python",
   "pygments_lexer": "ipython3",
   "version": "3.11.5"
  }
 },
 "nbformat": 4,
 "nbformat_minor": 5
}
