{
 "cells": [
  {
   "cell_type": "markdown",
   "id": "54bed81f",
   "metadata": {},
   "source": [
    "## Recursion Lab\n",
    "\n",
    "These questions come from Think Python, 2nd Edition Ch. 5.\n",
    "\n",
    "I have adapted the questions slightly to better fit the needs of the class."
   ]
  },
  {
   "cell_type": "markdown",
   "id": "cb845d44",
   "metadata": {},
   "source": [
    "**Exercise 5.2.** Fermat’s Last Theorem says that there are no positive integers a, b, and c such that\n",
    "\n",
    "a^n + b^n = c^n\n",
    "\n",
    "for any values of n greater than 2.\n",
    "\n",
    "1. Write a function named check_fermat that takes four parameters—a, b, c and n—and\n",
    "checks to see if Fermat’s theorem holds. If n is greater than 2 and\n",
    "\n",
    "a^n + b^n = c^n\n",
    "\n",
    "the program should print, “Holy smokes, Fermat was wrong!” Otherwise the program should print, “No, that doesn’t work.”"
   ]
  },
  {
   "cell_type": "code",
   "execution_count": null,
   "id": "bb5c225d",
   "metadata": {},
   "outputs": [],
   "source": [
    "##  Here is the general format of a function\n",
    "\n",
    "def function(parameter1, parameter2, parameter3, parameter4): #start with def, name of function, the number of parameters and :\n",
    "    # Write what you want your function to do, make sure to indent!\n",
    "    sum_of_params = parameter1 + parameter2 + parameter3 + parameter4\n",
    "    print(sum_of_params) # this will show us the result in the code\n",
    "    return sum_of_params #return is what will give us an answer to use elsewhere"
   ]
  },
  {
   "cell_type": "code",
   "execution_count": null,
   "id": "a95b072a",
   "metadata": {},
   "outputs": [],
   "source": [
    "## Write your function here"
   ]
  },
  {
   "cell_type": "code",
   "execution_count": null,
   "id": "c55db4f3",
   "metadata": {},
   "outputs": [],
   "source": [
    "check_fermat(1, 3, 4, 4)"
   ]
  },
  {
   "cell_type": "code",
   "execution_count": null,
   "id": "9aa4e231",
   "metadata": {},
   "outputs": [],
   "source": [
    "check_fermat(1, 2, 3, 2)"
   ]
  },
  {
   "cell_type": "markdown",
   "id": "1bd002f9",
   "metadata": {},
   "source": [
    "2. Write a function that prompts the user to input values for a, b, c and n, converts them to\n",
    "integers, and uses check_fermat to check whether they violate Fermat’s theorem."
   ]
  },
  {
   "cell_type": "code",
   "execution_count": null,
   "id": "bbdbebf5",
   "metadata": {},
   "outputs": [],
   "source": [
    "## Write your function here"
   ]
  },
  {
   "cell_type": "markdown",
   "id": "165741ec",
   "metadata": {},
   "source": [
    "**Exercise 5.3.** If you are given three sticks, you may or may not be able to arrange them in a triangle.\n",
    "\n",
    "For example, if one of the sticks is 12 inches long and the other two are one inch long, you will not\n",
    "be able to get the short sticks to meet in the middle. For any three lengths, there is a simple test to\n",
    "see if it is possible to form a triangle:\n",
    "\n",
    "If any of the three lengths is greater than the sum of the other two, then you cannot\n",
    "form a triangle. Otherwise, you can. (If the sum of two lengths equals the third, they\n",
    "form what is called a “degenerate” triangle.)\n",
    "\n",
    "1. Write a function named is_triangle that takes three integers as arguments, and that prints\n",
    "either “Yes” or “No”, depending on whether you can or cannot form a triangle from sticks\n",
    "with the given lengths."
   ]
  },
  {
   "cell_type": "code",
   "execution_count": null,
   "id": "535b97ff",
   "metadata": {},
   "outputs": [],
   "source": []
  },
  {
   "cell_type": "markdown",
   "id": "0cc4df79",
   "metadata": {},
   "source": [
    "2. Write a function that prompts the user to input three stick lengths, converts them to integers,\n",
    "and uses is_triangle to check whether sticks with the given lengths can form a triangle."
   ]
  },
  {
   "cell_type": "code",
   "execution_count": null,
   "id": "dd37bffd",
   "metadata": {},
   "outputs": [],
   "source": []
  },
  {
   "cell_type": "markdown",
   "id": "1a9f2460",
   "metadata": {},
   "source": [
    "**Exercise 5.4.** What is the output of the following program? Describe or draw a stack diagram that shows the\n",
    "state of the program when it prints the result. As in, write down what you think this program is trying to do.\n",
    "\n",
    "Answer Here:"
   ]
  },
  {
   "cell_type": "code",
   "execution_count": 1,
   "id": "9495e892",
   "metadata": {},
   "outputs": [],
   "source": [
    "def recurse(n, s):\n",
    "    if n == 0:\n",
    "        print(s)\n",
    "    else:\n",
    "        recurse(n-1, n+s)\n",
    "        recurse(3, 0)"
   ]
  },
  {
   "cell_type": "markdown",
   "id": "20d459e6",
   "metadata": {},
   "source": [
    "What would happen if you called this function like this: recurse(-1, 0)?"
   ]
  }
 ],
 "metadata": {
  "kernelspec": {
   "display_name": "Python (nycdot)",
   "language": "python",
   "name": "nycdot"
  },
  "language_info": {
   "codemirror_mode": {
    "name": "ipython",
    "version": 3
   },
   "file_extension": ".py",
   "mimetype": "text/x-python",
   "name": "python",
   "nbconvert_exporter": "python",
   "pygments_lexer": "ipython3",
   "version": "3.11.5"
  }
 },
 "nbformat": 4,
 "nbformat_minor": 5
}
