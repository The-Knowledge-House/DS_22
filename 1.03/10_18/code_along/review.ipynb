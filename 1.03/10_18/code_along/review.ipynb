{
 "cells": [
  {
   "cell_type": "markdown",
   "metadata": {},
   "source": [
    "# Review"
   ]
  },
  {
   "cell_type": "code",
   "execution_count": 14,
   "metadata": {},
   "outputs": [],
   "source": [
    "class Pokemon:\n",
    "    def __init__(self, name, kind, hp, ap):\n",
    "        self.name = name\n",
    "        self.kind = kind\n",
    "        self.hp = hp\n",
    "        self.ap = ap\n",
    "    \n",
    "    def make_sound(self):\n",
    "        new_str = (self.name[:5] + \" \") * 3\n",
    "        print(new_str)\n",
    "\n",
    "    def attack(self, other):\n",
    "        other.ap -= self.ap\n",
    "\n",
    "\n",
    "class firePokemon(Pokemon):\n",
    "    # function overriding \n",
    "    # https://www.geeksforgeeks.org/method-overriding-in-python/\n",
    "    def attack(self, other):\n",
    "        if other.kind == \"water\":\n",
    "            other.hp -= (self.ap/2)\n",
    "        elif other.kind == \"grass\":\n",
    "            other.hp -= (self.ap * 2)\n",
    "        else:\n",
    "            other.hp -= self.ap\n",
    "\n",
    "\n",
    "class waterPokemon(Pokemon):\n",
    "    # function overriding \n",
    "    # https://www.geeksforgeeks.org/method-overriding-in-python/\n",
    "    def attack(self, other):\n",
    "        if other.kind == \"leaf\":\n",
    "            other.hp -= (self.ap/2)\n",
    "        elif other.kind == \"fire\":\n",
    "            other.hp -= (self.ap * 2)\n",
    "        else:\n",
    "            other.hp -= self.ap\n",
    "\n",
    "pokA = firePokemon(\"charmander\", \"fire\", 100, 30)\n",
    "pokB = waterPokemon(\"squirtle\", \"water\", 100, 30)"
   ]
  },
  {
   "cell_type": "code",
   "execution_count": null,
   "metadata": {},
   "outputs": [],
   "source": [
    "# 1) what happens when we call this?\n",
    "pokA.make_sound()"
   ]
  },
  {
   "cell_type": "code",
   "execution_count": 16,
   "metadata": {},
   "outputs": [],
   "source": [
    "# 1) what happens when we call this?\n",
    "pokA.attack(pokB)"
   ]
  },
  {
   "cell_type": "code",
   "execution_count": null,
   "metadata": {},
   "outputs": [],
   "source": [
    "pokB.hp"
   ]
  }
 ],
 "metadata": {
  "kernelspec": {
   "display_name": "phase1",
   "language": "python",
   "name": "python3"
  },
  "language_info": {
   "codemirror_mode": {
    "name": "ipython",
    "version": 3
   },
   "file_extension": ".py",
   "mimetype": "text/x-python",
   "name": "python",
   "nbconvert_exporter": "python",
   "pygments_lexer": "ipython3",
   "version": "3.9.18"
  }
 },
 "nbformat": 4,
 "nbformat_minor": 2
}
