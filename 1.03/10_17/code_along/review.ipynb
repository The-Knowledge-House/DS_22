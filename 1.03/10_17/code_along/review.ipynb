{
 "cells": [
  {
   "cell_type": "markdown",
   "metadata": {},
   "source": [
    "# Review"
   ]
  },
  {
   "cell_type": "code",
   "execution_count": null,
   "metadata": {},
   "outputs": [],
   "source": [
    "class Pokemon:\n",
    "    def __init__(self, name, hp, ap):\n",
    "        self.name = name\n",
    "        self.hp = hp\n",
    "        self.ap = ap\n",
    "    \n",
    "    def attack(self, other):\n",
    "        other.ap -= self.ap\n",
    "\n",
    "\n",
    "pokA = Pokemon(\"charmander\", 100, 20)\n",
    "pokB = Pokemon(\"squirtle\", 100, 30)"
   ]
  },
  {
   "cell_type": "code",
   "execution_count": null,
   "metadata": {},
   "outputs": [],
   "source": [
    "# what are the attributes of this class?\n"
   ]
  },
  {
   "cell_type": "code",
   "execution_count": null,
   "metadata": {},
   "outputs": [],
   "source": [
    "# what are the methods of this class?\n"
   ]
  },
  {
   "cell_type": "code",
   "execution_count": null,
   "metadata": {},
   "outputs": [],
   "source": [
    "# what will be the result of the following code?\n",
    "\n",
    "pokA.attack(pokB)"
   ]
  },
  {
   "cell_type": "code",
   "execution_count": null,
   "metadata": {},
   "outputs": [],
   "source": [
    "# how can I create a 3rd Pokemon object ‘pokC’ with name “bulbasaur”, health 80, and attack 30.\n",
    "\n"
   ]
  }
 ],
 "metadata": {
  "kernelspec": {
   "display_name": "phase1",
   "language": "python",
   "name": "python3"
  },
  "language_info": {
   "name": "python",
   "version": "3.9.18"
  }
 },
 "nbformat": 4,
 "nbformat_minor": 2
}
