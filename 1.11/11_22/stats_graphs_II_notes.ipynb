{
 "cells": [
  {
   "cell_type": "markdown",
   "metadata": {},
   "source": [
    "## Review\n",
    "\n",
    "Given a string s, create a function called `reverseOnlyLetters(s)` that reverses the string according to the following rules:\n",
    "\n",
    "* All the characters that are not English letters remain in the same position.\n",
    "* All the English letters (lowercase or uppercase) should be reversed.\n",
    "* Return s after reversing it.\n",
    "\n",
    "Example 1\n",
    "```\n",
    "Input: s = \"ab-cd\"\n",
    "Output: \"dc-ba\"\n",
    "```\n",
    "\n",
    "Example 2\n",
    "```\n",
    "Input: s = \"a-bC-dEf-ghIj\"\n",
    "Output: \"j-Ih-gfE-dCba\"\n",
    "```\n",
    "\n",
    "Example 3\n",
    "```\n",
    "Input: s = \"Test1ng-Leet=code-Q!\"\n",
    "Output: \"Qedo1ct-eeLg=ntse-T!\"\n",
    "```\n",
    "\n",
    "Once you have a solution consider how you can make it more efficient in time complexity."
   ]
  },
  {
   "cell_type": "markdown",
   "metadata": {},
   "source": [
    "## Basic Plots Via Matplotlib\n",
    "\n",
    "Using our computed statistics, we attribute meaning to our numbers to reveal patterns & trends.\n",
    "\n",
    "Just text however is ineffective. We want instant impact.\n",
    "\n",
    "We complement our quantitative measures using visualizations as we saw last week.\n",
    "\n",
    "Since plotting is so common with data analysis, Python comes with pre-built functions that take datasets and convert them into visualizations.\n",
    "\n",
    "We will use `matplotlib.pyplot` : https://matplotlib.org/stable/index.html \n",
    "\n",
    "This package is mostly useful for generating non-interactive visualizations to be used in exploratory data analysis, presentations & jupyter notebooks.\n"
   ]
  },
  {
   "cell_type": "markdown",
   "metadata": {},
   "source": [
    "## Installation\n",
    "\n",
    "Firstly, let’s install `matplotlib` through pip:\n",
    "```\n",
    "pip3 install matplotlib (MacOS)\n",
    "pip install matplotlib  (Windows)\n",
    "```\n",
    "\n",
    "With the recent news of UFO sightings (Unidentified Flying Objects), we’re a team of analysts in charge of classifying these unexplained visitors 🛸🛸🛸\n",
    "\n",
    "We will not worry about how this data was cleaned or loaded.\n",
    "\n",
    "The main focus: we pass in ordered “lists” aka “array-like”  data structures.\n"
   ]
  },
  {
   "cell_type": "code",
   "execution_count": null,
   "metadata": {},
   "outputs": [],
   "source": [
    "## setup code. Not relevant to graphing, but you're free to explore ##\n",
    "\n",
    "import pandas as pd\n",
    "import numpy as np\n",
    "\n",
    "df = pd.read_csv(\"../11_21/data/complete.csv\", warn_bad_lines=False, error_bad_lines=False)\n",
    "\n",
    "# get time duration\n",
    "dropped = pd.to_numeric(df[\"duration (seconds)\"], errors='coerce').dropna()\n",
    "dur_index = dropped.index.tolist()\n",
    "duration = dropped.tolist()\n",
    "\n",
    "dur_state = df.loc[dropped.index][\"state\"]\n",
    "dur_state = dur_state.replace(np.nan, '').tolist()\n",
    "\n",
    "df['year'] = pd.to_datetime(df['datetime'], errors='coerce').dt.year\n",
    "year = df['year'].dropna().value_counts().sort_index()\n",
    "years = year.index.tolist()\n",
    "\n",
    "# get date and count for NY, CA, TX, & WA\n",
    "# NY\n",
    "df_ny = df[df[\"state\"] == \"ny\"]\n",
    "df_ny = df_ny[\"year\"].value_counts()\n",
    "ny_years = df_ny.index.tolist()\n",
    "ny_val = df_ny.tolist()\n",
    "\n",
    "# CA\n",
    "df_ca = df[df[\"state\"] == \"ca\"]\n",
    "df_ca = df_ca[\"year\"].value_counts()\n",
    "ca_years = df_ca.index.tolist()\n",
    "ca_val = df_ca.tolist()\n",
    "\n",
    "# TX\n",
    "df_tx = df[df[\"state\"] == \"tx\"]\n",
    "df_tx = df_tx[\"year\"].value_counts()\n",
    "tx_years = df_tx.index.tolist()\n",
    "tx_val = df_tx.tolist()\n",
    "\n",
    "# WA\n",
    "df_wa = df[df[\"state\"] == \"wa\"]\n",
    "df_wa = df_wa[\"year\"].value_counts()\n",
    "wa_years = df_wa.index.tolist()\n",
    "wa_val = df_wa.tolist()\n",
    "\n"
   ]
  },
  {
   "cell_type": "markdown",
   "metadata": {},
   "source": [
    "## Box & Whisker Plot\n",
    "\n",
    "Create a box & whisker plot of the effective minimum wage for each state in `box_data`. Use the list `years` as your labels and ignore outliers. Label your x-axis as \"years\" and your y-axis as \"wages USD(2020).\"\n",
    "\n",
    "Use these bar charts to discuss visual insights on effective minimum wage in 2020 dollars in questions 7 through 9."
   ]
  },
  {
   "cell_type": "code",
   "execution_count": 3,
   "metadata": {},
   "outputs": [],
   "source": [
    "# get list of lists for each type of UFO in California\n",
    "data = df.dropna(subset=['duration (seconds)'])\n",
    "\n",
    "categories = [\"cylinder\", \"light\", \"circle\", \"sphere\", \"disk\", \"fireball\", \"formation\"]\n",
    "ny_box_data = []\n",
    "\n",
    "for cat in categories:\n",
    "    handle = pd.to_numeric(data[(data[\"state\"] == \"ny\") & (data[\"shape\"] == cat)][\"duration (seconds)\"]).tolist()\n",
    "    ny_box_data.append(handle)\n",
    "\n",
    "ca_box_data = []\n",
    "\n",
    "for cat in categories:\n",
    "    handle = pd.to_numeric(data[(data[\"state\"] == \"ny\") & (data[\"shape\"] == cat)][\"duration (seconds)\"]).tolist()\n",
    "    ca_box_data.append(handle)\n"
   ]
  },
  {
   "cell_type": "code",
   "execution_count": 5,
   "metadata": {},
   "outputs": [
    {
     "name": "stdout",
     "output_type": "stream",
     "text": [
      "DURATION OF TIME SPENT LOOKING AT UFO\n",
      "[2700.0, 7200.0, 20.0, 20.0, 900.0]\n",
      "[0, 1, 2, 3, 4]\n",
      "['tx', 'tx', '', 'tx', 'hi']\n"
     ]
    }
   ],
   "source": [
    "print(\"DURATION OF TIME SPENT LOOKING AT UFO\")\n",
    "print(duration[:5])\n",
    "print(dur_index[:5])\n",
    "print(dur_state[:5])"
   ]
  },
  {
   "cell_type": "code",
   "execution_count": 4,
   "metadata": {},
   "outputs": [
    {
     "name": "stdout",
     "output_type": "stream",
     "text": [
      "YEARS AND VALUE\n",
      "[1906.0, 1910.0, 1914.0, 1916.0, 1920.0]\n",
      "[1, 2, 1, 1, 1]\n"
     ]
    }
   ],
   "source": [
    "print(\"YEARS AND VALUE\")\n",
    "print(years[:5])\n",
    "print(years_val[:5])"
   ]
  },
  {
   "cell_type": "code",
   "execution_count": 7,
   "metadata": {},
   "outputs": [
    {
     "name": "stdout",
     "output_type": "stream",
     "text": [
      "LOCATIONS AND VALUE\n",
      "[10450, 4653, 4598, 4050, 3511, 2940, 2874, 2783, 2642, 2254]\n"
     ]
    }
   ],
   "source": [
    "print(\"LOCATIONS AND VALUE\")\n",
    "#print(loc_states[:5])\n",
    "print(loc_val[:10])"
   ]
  },
  {
   "cell_type": "markdown",
   "metadata": {},
   "source": [
    "## Box & Whisker Plots\n",
    "\n",
    "Box & whisker plots describe expected values for various categories \n",
    "\n",
    "Describe differences in data distributions\n",
    "\n",
    "Box & whisker diagrams display the following measures visually:\n",
    "\n",
    "* Maximum & Minimum\n",
    "\n",
    "* Median (Middle of sorted data) (AKA Quarter 2)\n",
    "\n",
    "* Interquartile-Range (Quarter 1 & Quarter 2)"
   ]
  },
  {
   "cell_type": "code",
   "execution_count": 182,
   "metadata": {},
   "outputs": [
    {
     "data": {
      "text/plain": [
       "Text(0.5, 1.0, 'Durations of UFO Type in CA')"
      ]
     },
     "execution_count": 182,
     "metadata": {},
     "output_type": "execute_result"
    },
    {
     "data": {
      "image/png": "[encoded data removed]",
      "text/plain": [
       "<Figure size 432x288 with 1 Axes>"
      ]
     },
     "metadata": {
      "needs_background": "light"
     },
     "output_type": "display_data"
    }
   ],
   "source": [
    "fig, ax = plt.subplots()\n",
    "ax.boxplot(ca_box_data, showfliers=False, labels=categories)\n",
    "ax.set_xlabel(\"UFO Category\")\n",
    "ax.set_ylabel(\"Durations\")\n",
    "ax.set_title(\"Durations of UFO Type in CA\")"
   ]
  },
  {
   "cell_type": "code",
   "execution_count": 204,
   "metadata": {},
   "outputs": [
    {
     "data": {
      "text/plain": [
       "{'whiskers': [<matplotlib.lines.Line2D at 0x1eba33a09d0>,\n",
       "  <matplotlib.lines.Line2D at 0x1eba33a0ca0>,\n",
       "  <matplotlib.lines.Line2D at 0x1eba33a1ab0>,\n",
       "  <matplotlib.lines.Line2D at 0x1eba33a1d80>,\n",
       "  <matplotlib.lines.Line2D at 0x1eba33a2b90>,\n",
       "  <matplotlib.lines.Line2D at 0x1eba33a2e60>,\n",
       "  <matplotlib.lines.Line2D at 0x1eba33a3c70>,\n",
       "  <matplotlib.lines.Line2D at 0x1eba33a3f40>,\n",
       "  <matplotlib.lines.Line2D at 0x1eba33d4d90>,\n",
       "  <matplotlib.lines.Line2D at 0x1eba33d5060>,\n",
       "  <matplotlib.lines.Line2D at 0x1eba33d5e70>,\n",
       "  <matplotlib.lines.Line2D at 0x1eba33d6140>,\n",
       "  <matplotlib.lines.Line2D at 0x1eba33d6f50>,\n",
       "  <matplotlib.lines.Line2D at 0x1eba33d7220>],\n",
       " 'caps': [<matplotlib.lines.Line2D at 0x1eba33a0f70>,\n",
       "  <matplotlib.lines.Line2D at 0x1eba33a1240>,\n",
       "  <matplotlib.lines.Line2D at 0x1eba33a2050>,\n",
       "  <matplotlib.lines.Line2D at 0x1eba33a2320>,\n",
       "  <matplotlib.lines.Line2D at 0x1eba33a3130>,\n",
       "  <matplotlib.lines.Line2D at 0x1eba33a3400>,\n",
       "  <matplotlib.lines.Line2D at 0x1eba33d4250>,\n",
       "  <matplotlib.lines.Line2D at 0x1eba33d4520>,\n",
       "  <matplotlib.lines.Line2D at 0x1eba33d5330>,\n",
       "  <matplotlib.lines.Line2D at 0x1eba33d5600>,\n",
       "  <matplotlib.lines.Line2D at 0x1eba33d6410>,\n",
       "  <matplotlib.lines.Line2D at 0x1eba33d66e0>,\n",
       "  <matplotlib.lines.Line2D at 0x1eba33d74f0>,\n",
       "  <matplotlib.lines.Line2D at 0x1eba33d77c0>],\n",
       " 'boxes': [<matplotlib.lines.Line2D at 0x1eba33a0700>,\n",
       "  <matplotlib.lines.Line2D at 0x1eba33a17e0>,\n",
       "  <matplotlib.lines.Line2D at 0x1eba33a28c0>,\n",
       "  <matplotlib.lines.Line2D at 0x1eba33a39a0>,\n",
       "  <matplotlib.lines.Line2D at 0x1eba33d4ac0>,\n",
       "  <matplotlib.lines.Line2D at 0x1eba33d5ba0>,\n",
       "  <matplotlib.lines.Line2D at 0x1eba33d6c80>],\n",
       " 'medians': [<matplotlib.lines.Line2D at 0x1eba33a1510>,\n",
       "  <matplotlib.lines.Line2D at 0x1eba33a25f0>,\n",
       "  <matplotlib.lines.Line2D at 0x1eba33a36d0>,\n",
       "  <matplotlib.lines.Line2D at 0x1eba33d47f0>,\n",
       "  <matplotlib.lines.Line2D at 0x1eba33d58d0>,\n",
       "  <matplotlib.lines.Line2D at 0x1eba33d69b0>,\n",
       "  <matplotlib.lines.Line2D at 0x1eba33d7a90>],\n",
       " 'fliers': [],\n",
       " 'means': []}"
      ]
     },
     "execution_count": 204,
     "metadata": {},
     "output_type": "execute_result"
    },
    {
     "data": {
      "image/png": "[encoded data removed]",
      "text/plain": [
       "<Figure size 432x288 with 1 Axes>"
      ]
     },
     "metadata": {
      "needs_background": "light"
     },
     "output_type": "display_data"
    }
   ],
   "source": [
    "fig, ax = plt.subplots()\n",
    "ax.boxplot(ny_box_data, showfliers=False, labels=categories)\n"
   ]
  },
  {
   "cell_type": "markdown",
   "metadata": {},
   "source": [
    "## Quartiles\n",
    "\n",
    "Calculating Lower Quartile & Upper Quartile\n",
    "\n",
    "Lower Quartile: the median of the left-half of the list (not-including the median)\n",
    "\n",
    "Upper Quartile: the median of the right-half of the list (not-including the median)\n",
    "\n",
    "First we calculate the median\n",
    "\n",
    "```\n",
    "[18, 27, 34, 52, 54, 59, 61, 68, 78, 82, 85, 87, 91, 93, 100]\n",
    "```\n",
    "\n",
    "From there we split the list into two lists in half on the median.\n",
    "\n",
    "We get the median of these repsective lists. These are our quarter 1's and 2's."
   ]
  },
  {
   "cell_type": "code",
   "execution_count": 196,
   "metadata": {},
   "outputs": [
    {
     "name": "stdout",
     "output_type": "stream",
     "text": [
      "median 68\n",
      "q1 52\n",
      "q3 87\n",
      "IQR 35\n"
     ]
    }
   ],
   "source": [
    "from statistics import median\n",
    "\n",
    "data = [18, 27, 34, 52, 54, 59, 61, 68, 78, 82, 85, 87, 91, 93, 100]\n",
    "\n",
    "med = median(data)\n",
    "ind_med = data.index(med)\n",
    "\n",
    "q1 = median(data[:ind_med])\n",
    "q3 = median(data[ind_med + 1:])\n",
    "\n",
    "print(\"median\", med)\n",
    "print(\"q1\",q1)\n",
    "print(\"q3\",q3)\n",
    "print(\"IQR\", q3 - q1)\n",
    "\n"
   ]
  },
  {
   "cell_type": "markdown",
   "metadata": {},
   "source": [
    "## Outliers\n",
    "\n",
    "When it comes to identifying outliers, we rely on the \"upper fence\" and \"lower fence.\"\n",
    "\n",
    "If we want a max & min that is not influenced by extreme values, we use upper fence and lower fence.\n",
    "\n",
    "Upper Fence: `Q3 + (1.5 * IQR)`\n",
    "\n",
    "Lower Fence: `Q1 - (1.5 * IQR)`\n",
    "\n",
    "Using upper & lower fence is a good way to detect outliers.\n",
    "\n",
    "We will move away from the informal 3 standard deviations, and utilize “upper” and “lower” fence.\n",
    "\n",
    "If something is more than the upper fence, it is an outlier. Ditto for lower fence."
   ]
  },
  {
   "cell_type": "code",
   "execution_count": 199,
   "metadata": {},
   "outputs": [
    {
     "name": "stdout",
     "output_type": "stream",
     "text": [
      "upper fence 139.5\n",
      "lower fence -0.5\n",
      "compare this to max 100\n",
      "compare this to min 18\n"
     ]
    }
   ],
   "source": [
    "iqr = q3 - q1\n",
    "\n",
    "upper_fence = q3 + (1.5 * iqr)\n",
    "lower_fence = q1 - (1.5 * iqr)\n",
    "\n",
    "print(\"upper fence\", upper_fence)\n",
    "print(\"lower fence\", lower_fence)\n",
    "\n",
    "print(\"compare this to max\", max(data))\n",
    "print(\"compare this to min\", min(data))"
   ]
  },
  {
   "cell_type": "markdown",
   "metadata": {},
   "source": [
    "## Multiple Plots\n",
    "\n",
    "Let’s say we wanted to plot 2 plots in the same figure\n",
    "\n",
    "How can we do this explicitly via Matplotlib?\n",
    "\n",
    "We repeat the pattern of creating objects and explicitly creating a specific plot using the `ax.plot_type()` functions.\n",
    "\n",
    "For example, let’s say you want to plot the occurrence of UFO’s in both CA and NY by year as two scatter plots.\n",
    "\n",
    "Specifically, we provide an integer argument in the `suplots` function (or constructor) which prepares two spaces for our plots.\n",
    "\n",
    "However, let’s say we want our plots to be stacked, side by side. To do this, we specify 1 row and 2 columns by placing (1,2) in our arguments.\n",
    "\n",
    "Notice how our y-axis is different from one another. This might lead to misleading scale (CA has UFO’s that last as long as NY UFO’s?) \n",
    "\n",
    "This indicates that we must change our y-axis by hand! In this case, we add in an additional parameter in our `plt.subplots` constructor called `sharey` and set it to be true.\n",
    "\n",
    "Lastly, let us set the title of each respective plot, what function should we use for both the `ax1` and `ax2` objects?"
   ]
  },
  {
   "cell_type": "code",
   "execution_count": null,
   "metadata": {},
   "outputs": [],
   "source": [
    "# insert code here"
   ]
  },
  {
   "cell_type": "markdown",
   "metadata": {},
   "source": [
    "# Multiple Dimensons\n",
    "\n",
    "Notice how we are saving the `ax1` and `ax2` objects inside of a data-structure. What kind of struct is this? (List, tuple, dictionary, set?)\n",
    "\n",
    "This is a tuple, and it is the standard of “unpacking” multiple objects.\n",
    "If we left this as one list, we would have to treat `ax` as a list that contains two indices.\n",
    "\n",
    "If we had multiple dimensions (multiple rows and multiple columns), then we would have index our individual `ax` object using 2-dimensional indexing."
   ]
  },
  {
   "cell_type": "code",
   "execution_count": null,
   "metadata": {},
   "outputs": [],
   "source": [
    "import matplotlib.pyplot as plt\n",
    "\n",
    "fig, ax = plt.subplots(2, 2, sharey=True)\n",
    "ax[0, 0].bar(ca_years, ca_val)\n",
    "ax[0, 1].bar(ny_years, ny_val)\n",
    "ax[1, 0].bar(tx_years, tx_val)\n",
    "ax[1, 1].bar(wa_years, wa_val)\n",
    "\n",
    "ax[0, 0].set_title(\"CA\")\n",
    "ax[0, 1].set_title(\"NY\")\n",
    "ax[1, 0].set_title(\"TX\")\n",
    "ax[1, 1].set_title(\"WA\")\n",
    "\n",
    "plt.tight_layout()"
   ]
  },
  {
   "cell_type": "markdown",
   "metadata": {},
   "source": [
    "## Summary\n",
    "\n",
    "The explicit method of working in matplotlib involves creating an Axes object, which represents one individual plot.\n",
    "\n",
    "As we’ve just seen, we left our figure largely untouched, but created multiple `ax` objects which describe different graphs.\n",
    "\n"
   ]
  }
 ],
 "metadata": {
  "kernelspec": {
   "display_name": "Python 3.10.7 64-bit",
   "language": "python",
   "name": "python3"
  },
  "language_info": {
   "codemirror_mode": {
    "name": "ipython",
    "version": 3
   },
   "file_extension": ".py",
   "mimetype": "text/x-python",
   "name": "python",
   "nbconvert_exporter": "python",
   "pygments_lexer": "ipython3",
   "version": "3.10.7"
  },
  "orig_nbformat": 4,
  "vscode": {
   "interpreter": {
    "hash": "369f2c481f4da34e4445cda3fffd2e751bd1c4d706f27375911949ba6bb62e1c"
   }
  }
 },
 "nbformat": 4,
 "nbformat_minor": 2
}
