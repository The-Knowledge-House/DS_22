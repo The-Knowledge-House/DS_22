{
 "cells": [
  {
   "cell_type": "markdown",
   "metadata": {},
   "source": [
    "## Review\n",
    "\n",
    "Given a string s, create a function called `reverseOnlyLetters(s)` that reverses the string according to the following rules:\n",
    "\n",
    "* All the characters that are not English letters remain in the same position.\n",
    "* All the English letters (lowercase or uppercase) should be reversed.\n",
    "* Return s after reversing it.\n",
    "\n",
    "Example 1\n",
    "```\n",
    "Input: s = \"ab-cd\"\n",
    "Output: \"dc-ba\"\n",
    "```\n",
    "\n",
    "Example 2\n",
    "```\n",
    "Input: s = \"a-bC-dEf-ghIj\"\n",
    "Output: \"j-Ih-gfE-dCba\"\n",
    "```\n",
    "\n",
    "Example 3\n",
    "```\n",
    "Input: s = \"Test1ng-Leet=code-Q!\"\n",
    "Output: \"Qedo1ct-eeLg=ntse-T!\"\n",
    "```\n",
    "\n",
    "Once you have a solution consider how you can make it more efficient in time complexity."
   ]
  },
  {
   "cell_type": "code",
   "execution_count": null,
   "metadata": {},
   "outputs": [],
   "source": [
    "# write solution here\n",
    "def reverseOnlyLetters(s):\n",
    "    pass"
   ]
  },
  {
   "cell_type": "code",
   "execution_count": null,
   "metadata": {},
   "outputs": [],
   "source": [
    "# test code here\n",
    "print(\"Test case 1:\", reverseOnlyLetters(\"ab-cd\") == \"dc-ba\")\n",
    "print(\"Test case 2:\", reverseOnlyLetters(\"abcd\") == \"dcba\")\n",
    "print(\"Test case 3:\", reverseOnlyLetters(\"a-bC-dEf-ghIj\") == \"j-Ih-gfE-dCba\")\n",
    "print(\"Test case 4:\", reverseOnlyLetters(\"Test1ng-Leet=code-Q!\") == \"Qedo1ct-eeLg=ntse-T!\")"
   ]
  }
 ],
 "metadata": {
  "kernelspec": {
   "display_name": "Python 3.10.7 64-bit",
   "language": "python",
   "name": "python3"
  },
  "language_info": {
   "name": "python",
   "version": "3.10.7"
  },
  "orig_nbformat": 4,
  "vscode": {
   "interpreter": {
    "hash": "369f2c481f4da34e4445cda3fffd2e751bd1c4d706f27375911949ba6bb62e1c"
   }
  }
 },
 "nbformat": 4,
 "nbformat_minor": 2
}
