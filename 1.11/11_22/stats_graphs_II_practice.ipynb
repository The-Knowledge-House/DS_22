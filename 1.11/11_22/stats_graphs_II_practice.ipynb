{
 "cells": [
  {
   "cell_type": "code",
   "execution_count": 13,
   "metadata": {},
   "outputs": [],
   "source": [
    "# run this code to set up your data\n",
    "import pandas as pd\n",
    "\n",
    "min_wage = pd.read_csv(\"../11_21/data/min.csv\")\n",
    "\n",
    "# get wages for 2020 and sort\n",
    "twenty = min_wage[min_wage[\"Year\"] == 2020]\n",
    "twenty = twenty.sort_values(by=\"Effective.Minimum.Wage.2020.Dollars\", ascending=False)\n",
    "\n",
    "# get CA minimum wage year as list of lists for 2015-2020\n",
    "years = [2010, 2011, 2012, 2013, 2014, 2015, 2016, 2017, 2018, 2019, 2020]\n",
    "box_data = []\n",
    "\n",
    "for year in years:\n",
    "    handle = min_wage[min_wage[\"Year\"] == year][\"Effective.Minimum.Wage.2020.Dollars\"].tolist()\n",
    "    box_data.append(handle)\n",
    "\n",
    "# get wages & years for New York\n",
    "ny_minwage = min_wage[min_wage[\"State\"] == \"New York\"]\n",
    "ny_min_data = []\n",
    "for year in years:\n",
    "    handle = ny_minwage[ny_minwage[\"Year\"] == year][\"Effective.Minimum.Wage.2020.Dollars\"].tolist()\n",
    "    ny_min_data += handle"
   ]
  },
  {
   "cell_type": "markdown",
   "metadata": {},
   "source": [
    "## Box & Whisker Plot\n",
    "\n",
    "Create a box & whisker plot of the effective minimum wage for all states in `box_data`. Use the list `years` as your labels and ignore outliers. Label your x-axis as \"years\" and your y-axis as \"wages USD(2020).\"\n",
    "\n",
    "Use this chart to discuss visual insights on effective minimum wage in 2020 dollars in questions 1 through 3."
   ]
  },
  {
   "cell_type": "code",
   "execution_count": null,
   "metadata": {},
   "outputs": [],
   "source": [
    "# write code here\n"
   ]
  },
  {
   "cell_type": "markdown",
   "metadata": {},
   "source": [
    "## Q1\n",
    "\n",
    "What was the maximum effective wage in 2015?\n",
    "\n"
   ]
  },
  {
   "cell_type": "markdown",
   "metadata": {},
   "source": [
    "## Q2\n",
    "\n",
    "How does this compare to the maximum effective wage of 2020?\n",
    "\n"
   ]
  },
  {
   "cell_type": "markdown",
   "metadata": {},
   "source": [
    "## Q3\n",
    "\n",
    "How did minimum effective wage change from 2015 to 2020?\n",
    "\n"
   ]
  },
  {
   "cell_type": "markdown",
   "metadata": {},
   "source": [
    "## Box & Whisker + Line Plot\n",
    "\n",
    "Create a box & whisker plots of the effective minimum wage for all states using `box_data`. Use the list `years` as your labels and ignore outliers. Label your x-axis as \"years\" and your y-axis as \"wages USD(2020).\" After creating this graph, create a line plot of NY minimum effective wage in the same figure using the `ny_min_data` & `years` lists. \n",
    "\n",
    "Figure out a way to ensure that the range of the y-axis of your line plot is the same as the y-axis for your box & whisker diagram (`6.9, 14.5`). You will have to utilize the matplotlib documentation or lookup solutions online.\n",
    "\n",
    "This can either be a horizontally or vertically stacked graph.\n",
    "\n",
    "Use these charts to discuss visual insights on effective minimum wage in 2020 dollars in questions 1 through 3."
   ]
  },
  {
   "cell_type": "code",
   "execution_count": null,
   "metadata": {},
   "outputs": [],
   "source": [
    "# write code here\n"
   ]
  },
  {
   "cell_type": "markdown",
   "metadata": {},
   "source": [
    "## Q4\n",
    "\n",
    "How did NY effective minimum wage compare to the rest of the country in 2020?\n",
    "\n"
   ]
  },
  {
   "cell_type": "markdown",
   "metadata": {},
   "source": [
    "## Q5\n",
    "\n",
    "Did NY minimum wage experience a relative maximum wage in 2020 based on the box & whisker plot.\n",
    "\n"
   ]
  },
  {
   "cell_type": "markdown",
   "metadata": {},
   "source": [
    "## Q6\n",
    "\n",
    "The x-axis of our box & whisker diagram contains overlapping text. How we can change the configuration of this graph (the rotation) to ensure that it is easy to read?\n"
   ]
  }
 ],
 "metadata": {
  "kernelspec": {
   "display_name": "Python 3.10.7 64-bit",
   "language": "python",
   "name": "python3"
  },
  "language_info": {
   "codemirror_mode": {
    "name": "ipython",
    "version": 3
   },
   "file_extension": ".py",
   "mimetype": "text/x-python",
   "name": "python",
   "nbconvert_exporter": "python",
   "pygments_lexer": "ipython3",
   "version": "3.10.7"
  },
  "orig_nbformat": 4,
  "vscode": {
   "interpreter": {
    "hash": "369f2c481f4da34e4445cda3fffd2e751bd1c4d706f27375911949ba6bb62e1c"
   }
  }
 },
 "nbformat": 4,
 "nbformat_minor": 2
}
