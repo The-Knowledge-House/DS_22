{
 "cells": [
  {
   "cell_type": "markdown",
   "metadata": {},
   "source": [
    "## Sonification of Data\n",
    "\n",
    "If you have a data file that you personally would like to sonify, check out the following libraries:\n",
    "\n",
    "https://wiki.python.org/moin/PythonInMusic "
   ]
  },
  {
   "cell_type": "markdown",
   "metadata": {},
   "source": [
    "## Review\n",
    "\n",
    "Given a string s, create a function called `reverseOnlyLetters(s)` that reverses the string according to the following rules:\n",
    "\n",
    "* All the characters that are not English letters remain in the same position.\n",
    "* All the English letters (lowercase or uppercase) should be reversed.\n",
    "* Return s after reversing it.\n",
    "\n",
    "Example 1\n",
    "```\n",
    "Input: s = \"ab-cd\"\n",
    "Output: \"dc-ba\"\n",
    "```\n",
    "\n",
    "Example 2\n",
    "```\n",
    "Input: s = \"a-bC-dEf-ghIj\"\n",
    "Output: \"j-Ih-gfE-dCba\"\n",
    "```\n",
    "\n",
    "Example 3\n",
    "```\n",
    "Input: s = \"Test1ng-Leet=code-Q!\"\n",
    "Output: \"Qedo1ct-eeLg=ntse-T!\"\n",
    "```\n",
    "\n",
    "Once you have a solution consider how you can make it more efficient in time complexity."
   ]
  },
  {
   "cell_type": "markdown",
   "metadata": {},
   "source": [
    "## Basic Plots Via Matplotlib\n",
    "\n",
    "Using our computed statistics, we attribute meaning to our numbers to reveal patterns & trends.\n",
    "\n",
    "Just text however is ineffective. We want instant impact.\n",
    "\n",
    "We complement our quantitative measures using visualizations as we saw last week.\n",
    "\n",
    "Since plotting is so common with data analysis, Python comes with pre-built functions that take datasets and convert them into visualizations.\n",
    "\n",
    "We will use `matplotlib.pyplot` : https://matplotlib.org/stable/index.html \n",
    "\n",
    "This package is mostly useful for generating non-interactive visualizations to be used in exploratory data analysis, presentations & jupyter notebooks.\n"
   ]
  },
  {
   "cell_type": "markdown",
   "metadata": {},
   "source": [
    "## Installation\n",
    "\n",
    "Firstly, let’s install `matplotlib` through pip:\n",
    "```\n",
    "pip3 install matplotlib (MacOS)\n",
    "pip install matplotlib  (Windows)\n",
    "```\n",
    "\n",
    "With the recent news of UFO sightings (Unidentified Flying Objects), we’re a team of analysts in charge of classifying these unexplained visitors 🛸🛸🛸\n",
    "\n",
    "We will not worry about how this data was cleaned or loaded.\n",
    "\n",
    "The main focus: we pass in ordered “lists” aka “array-like”  data structures.\n"
   ]
  },
  {
   "cell_type": "markdown",
   "metadata": {},
   "source": [
    "## Advanced Plots\n",
    "\n",
    "If this matplotlib.pyplot is what I use for presentations, what do we use for interactive and “production”-ready visualizations?\n",
    "\n",
    "The current “in-demand” skill is Tableau.\n",
    "\n",
    "However, other tools & packages such as RShiny or D3.js allow us to do the same, but with a steep learning curve."
   ]
  },
  {
   "cell_type": "code",
   "execution_count": 6,
   "metadata": {},
   "outputs": [
    {
     "data": {
      "text/plain": [
       "<AxesSubplot:>"
      ]
     },
     "execution_count": 6,
     "metadata": {},
     "output_type": "execute_result"
    },
    {
     "data": {
      "image/png": "[encoded data removed]",
      "text/plain": [
       "<Figure size 432x288 with 1 Axes>"
      ]
     },
     "metadata": {
      "needs_background": "light"
     },
     "output_type": "display_data"
    }
   ],
   "source": [
    "import matplotlib.pyplot as plt\n",
    "import pandas as pd\n",
    "\n",
    "scores = pd.read_csv(\"data/scores.csv\").drop(columns=[\"Percentage distribution\"])\n",
    "scores.plot()"
   ]
  },
  {
   "cell_type": "code",
   "execution_count": 5,
   "metadata": {},
   "outputs": [
    {
     "name": "stderr",
     "output_type": "stream",
     "text": [
      "C:\\Users\\saidmf\\AppData\\Local\\Temp\\ipykernel_25212\\1448872632.py:6: FutureWarning: The error_bad_lines argument has been deprecated and will be removed in a future version. Use on_bad_lines in the future.\n",
      "\n",
      "\n",
      "  df = pd.read_csv(\"data/complete.csv\", warn_bad_lines=False, error_bad_lines=False)\n",
      "C:\\Users\\saidmf\\AppData\\Local\\Temp\\ipykernel_25212\\1448872632.py:6: FutureWarning: The warn_bad_lines argument has been deprecated and will be removed in a future version. Use on_bad_lines in the future.\n",
      "\n",
      "\n",
      "  df = pd.read_csv(\"data/complete.csv\", warn_bad_lines=False, error_bad_lines=False)\n",
      "C:\\Users\\saidmf\\AppData\\Local\\Temp\\ipykernel_25212\\1448872632.py:6: DtypeWarning: Columns (5) have mixed types. Specify dtype option on import or set low_memory=False.\n",
      "  df = pd.read_csv(\"data/complete.csv\", warn_bad_lines=False, error_bad_lines=False)\n"
     ]
    }
   ],
   "source": [
    "## setup code. Not relevant to graphing, but you're free to explore ##\n",
    "\n",
    "import pandas as pd\n",
    "import numpy as np\n",
    "\n",
    "df = pd.read_csv(\"data/complete.csv\", warn_bad_lines=False, error_bad_lines=False)\n",
    "\n",
    "# get time duration\n",
    "dropped = pd.to_numeric(df[\"duration (seconds)\"], errors='coerce').dropna()\n",
    "dur_index = dropped.index.tolist()\n",
    "duration = dropped.tolist()\n",
    "\n",
    "dur_state = df.loc[dropped.index][\"state\"]\n",
    "dur_state = dur_state.replace(np.nan, '').tolist()\n",
    "\n",
    "# get date and count\n",
    "df['year'] = pd.to_datetime(df['datetime'], errors='coerce').dt.year\n",
    "year = df['year'].dropna().value_counts().sort_index()\n",
    "years = year.index.tolist()\n",
    "years_val = year.tolist()\n",
    "\n",
    "# get location and counts\n",
    "location = df[\"state\"].dropna().value_counts()\n",
    "loc_states = location.index.tolist()\n",
    "loc_val = location.tolist()\n",
    "\n"
   ]
  },
  {
   "cell_type": "code",
   "execution_count": 3,
   "metadata": {},
   "outputs": [],
   "source": [
    "# get list of lists for each type of UFO in California\n",
    "data = df.dropna(subset=['duration (seconds)'])\n",
    "\n",
    "categories = [\"cylinder\", \"light\", \"circle\", \"sphere\", \"disk\", \"fireball\", \"formation\"]\n",
    "ny_box_data = []\n",
    "\n",
    "for cat in categories:\n",
    "    handle = pd.to_numeric(data[(data[\"state\"] == \"ny\") & (data[\"shape\"] == cat)][\"duration (seconds)\"]).tolist()\n",
    "    ny_box_data.append(handle)\n",
    "\n",
    "ca_box_data = []\n",
    "\n",
    "for cat in categories:\n",
    "    handle = pd.to_numeric(data[(data[\"state\"] == \"ny\") & (data[\"shape\"] == cat)][\"duration (seconds)\"]).tolist()\n",
    "    ca_box_data.append(handle)\n"
   ]
  },
  {
   "cell_type": "code",
   "execution_count": 5,
   "metadata": {},
   "outputs": [
    {
     "name": "stdout",
     "output_type": "stream",
     "text": [
      "DURATION OF TIME SPENT LOOKING AT UFO\n",
      "[2700.0, 7200.0, 20.0, 20.0, 900.0]\n",
      "[0, 1, 2, 3, 4]\n",
      "['tx', 'tx', '', 'tx', 'hi']\n"
     ]
    }
   ],
   "source": [
    "print(\"DURATION OF TIME SPENT LOOKING AT UFO\")\n",
    "print(duration[:5])\n",
    "print(dur_index[:5])\n",
    "print(dur_state[:5])"
   ]
  },
  {
   "cell_type": "code",
   "execution_count": 4,
   "metadata": {},
   "outputs": [
    {
     "name": "stdout",
     "output_type": "stream",
     "text": [
      "YEARS AND VALUE\n",
      "[1906.0, 1910.0, 1914.0, 1916.0, 1920.0]\n",
      "[1, 2, 1, 1, 1]\n"
     ]
    }
   ],
   "source": [
    "print(\"YEARS AND VALUE\")\n",
    "print(years[:5])\n",
    "print(years_val[:5])"
   ]
  },
  {
   "cell_type": "code",
   "execution_count": 7,
   "metadata": {},
   "outputs": [
    {
     "name": "stdout",
     "output_type": "stream",
     "text": [
      "LOCATIONS AND VALUE\n",
      "[10450, 4653, 4598, 4050, 3511, 2940, 2874, 2783, 2642, 2254]\n"
     ]
    }
   ],
   "source": [
    "print(\"LOCATIONS AND VALUE\")\n",
    "#print(loc_states[:5])\n",
    "print(loc_val[:10])"
   ]
  },
  {
   "cell_type": "markdown",
   "metadata": {},
   "source": [
    "## The Explicit Pattern\n",
    "\n",
    "We will be using explicit method (OOP) of creating graphs in matplotlib.\n",
    "\n",
    "And reviewing the implicit method for quick visualizations.\n",
    "\n",
    "To make visualizations we make objects and attach visualizations to them:\n",
    "\n",
    "```\n",
    "fig, ax = plt.subplots() \n",
    "\n",
    "ax.plot(sample_states, sample_val)\n",
    "```\n",
    "\n",
    "The explicit method of working in matplotlib involves creating an Axes object, which represents one individual plot.\n",
    "\n",
    "We insert our “Axes” objects within a “Figure” which is the final image that might contain more than one plot.\n"
   ]
  },
  {
   "cell_type": "markdown",
   "metadata": {},
   "source": [
    "## Line Plot\n",
    "\n",
    "The line plot is a classic go-to when visualizing trend or behavior of two variables, when the x-axis is some continuous value (time, money). “Month vs temp”, “Income vs score”.\n",
    "\n",
    "The number values of the x-axis should be “orderable.”\n",
    "Ex: “$20,000 < $40,000.” “January < February”\n",
    "\n",
    "If you graph non-ordinal values against some value, you might get irrelevant analysis.\n",
    "\n",
    "What does ordering mean? We want our intention to motivate graphs, not graphs to motivate our intention.\n",
    "\n"
   ]
  },
  {
   "cell_type": "code",
   "execution_count": 8,
   "metadata": {},
   "outputs": [
    {
     "data": {
      "text/plain": [
       "[<matplotlib.lines.Line2D at 0x16f15a46020>]"
      ]
     },
     "execution_count": 8,
     "metadata": {},
     "output_type": "execute_result"
    },
    {
     "data": {
      "image/png": "[encoded data removed]",
      "text/plain": [
       "<Figure size 432x288 with 1 Axes>"
      ]
     },
     "metadata": {
      "needs_background": "light"
     },
     "output_type": "display_data"
    }
   ],
   "source": [
    "# doesn't make sense to use a line plot for states and occurences\n",
    "fig, ax = plt.subplots()\n",
    "\n",
    "sample_states = loc_states[:5]\n",
    "sample_val = loc_val[:5]\n",
    "\n",
    "ax.plot(sample_states, sample_val)"
   ]
  },
  {
   "cell_type": "markdown",
   "metadata": {},
   "source": [
    "Let’s practice creating a basic line plot of ordered years and how many UFO sightings were reported.\n",
    "\n",
    "Firstly, we create our figure and axes objects.\n",
    "\n",
    "We have a list called `years` describing what year an observation occurred, and a separate list called `year_vals`\n",
    "describing how many observations were recorded. \n",
    "\n",
    "We simply pass these two lists into the function called `plot`\n",
    "\n",
    "While we have our line plot prepared, we should not assume that our axises are implicitly understandable, we must label them.\n",
    "\n",
    "We have three functions that we can use `set_xlabel`, `set_ylabel`, `set_title`\n"
   ]
  },
  {
   "cell_type": "code",
   "execution_count": 1,
   "metadata": {},
   "outputs": [
    {
     "data": {
      "image/png": "[encoded data removed]",
      "text/plain": [
       "<Figure size 432x288 with 1 Axes>"
      ]
     },
     "metadata": {
      "needs_background": "light"
     },
     "output_type": "display_data"
    }
   ],
   "source": [
    "# code along here\n",
    "import matplotlib.pyplot as plt\n",
    "\n",
    "fig, ax = plt.subplots()"
   ]
  },
  {
   "cell_type": "markdown",
   "metadata": {},
   "source": [
    "## Scatter Plot\n",
    "\n",
    "Scatter plots are a great go-to for visualizing trends over time or ordinality. The X-axis is usually a continuous value.\n",
    "\n",
    "An unconnected line plot.\n",
    "\n",
    "We could plot ordinal values (money, time) on the x-axis, but we don’t need to.  \n",
    "\n",
    "Which values are “grouped” around the most.\n"
   ]
  },
  {
   "cell_type": "code",
   "execution_count": 7,
   "metadata": {},
   "outputs": [
    {
     "data": {
      "text/plain": [
       "<AxesSubplot:xlabel='Income', ylabel='Mathematics score'>"
      ]
     },
     "execution_count": 7,
     "metadata": {},
     "output_type": "execute_result"
    },
    {
     "data": {
      "image/png": "[encoded data removed]",
      "text/plain": [
       "<Figure size 432x288 with 1 Axes>"
      ]
     },
     "metadata": {
      "needs_background": "light"
     },
     "output_type": "display_data"
    }
   ],
   "source": [
    "scores.plot.scatter(\"Income\",\"Mathematics score\")"
   ]
  },
  {
   "cell_type": "code",
   "execution_count": null,
   "metadata": {},
   "outputs": [],
   "source": [
    "# code along here"
   ]
  },
  {
   "cell_type": "markdown",
   "metadata": {},
   "source": [
    "## Bar Plot\n",
    "\n",
    "Bar plots are an excellent medium to express which categories have the most & least value.  \n",
    "\n",
    "Instead of individual data points, we usually plot this when we have a summary of data. (Total, Mean, Mode, etc)\n",
    "\n",
    "Let’s practice creating a bar plots of the top 10 states & UFO sightings"
   ]
  },
  {
   "cell_type": "code",
   "execution_count": null,
   "metadata": {},
   "outputs": [],
   "source": [
    "# code along here\n",
    "\n"
   ]
  },
  {
   "cell_type": "markdown",
   "metadata": {},
   "source": [
    "Let’s say we want to create a bar-chart where there are two bars for each category."
   ]
  },
  {
   "cell_type": "code",
   "execution_count": 205,
   "metadata": {},
   "outputs": [
    {
     "data": {
      "image/png": "[encoded data removed]",
      "text/plain": [
       "<Figure size 432x288 with 1 Axes>"
      ]
     },
     "metadata": {
      "needs_background": "light"
     },
     "output_type": "display_data"
    }
   ],
   "source": [
    "fig, ax = plt.subplots()\n",
    "\n",
    "sample = scores.head()\n",
    "\n",
    "income = sample[\"Income\"].tolist()\n",
    "reading = sample[\"Critical reading score\"].tolist()\n",
    "math = sample[\"Mathematics score\"].tolist()\n",
    "\n",
    "x = np.arange(len(income)) \n",
    "width = 0.35\n",
    "\n",
    "ax.bar(x - width/2, reading, width, label='Reading')\n",
    "ax.bar(x + width/2, math, width, label='Math')\n",
    "\n",
    "ax.set_xticks(x, income)\n",
    "ax.legend()\n",
    "\n",
    "\n",
    "fig.tight_layout()"
   ]
  },
  {
   "cell_type": "markdown",
   "metadata": {},
   "source": [
    "## Histograms\n",
    "\n",
    "Histograms, much like bar-plots display quantity over category.\n",
    "\n",
    "One key-difference, however, is that histograms display frequency of numerical values (continuous values), whereas bar-graphs display frequency of categories. \n",
    "\n",
    "Let’s practice creating a histogram of the frequency of observations per state. (How many states have 1000 observations, 2000 observations, etc)"
   ]
  },
  {
   "cell_type": "code",
   "execution_count": null,
   "metadata": {},
   "outputs": [],
   "source": [
    "# code along here"
   ]
  },
  {
   "cell_type": "markdown",
   "metadata": {},
   "source": [
    "## Implicit Matplotlib\n",
    "\n",
    "If we want to make one visualization, and we’re not interested in make a descriptive figure with multiple visualizations, we can use matplotlib “implicitly.”\n",
    "\n",
    "We simply utilize the `plt` module, and our objects are created for us:"
   ]
  },
  {
   "cell_type": "code",
   "execution_count": 158,
   "metadata": {},
   "outputs": [
    {
     "data": {
      "text/plain": [
       "Text(0.5, 1.0, 'UFO Sightings over Years')"
      ]
     },
     "execution_count": 158,
     "metadata": {},
     "output_type": "execute_result"
    },
    {
     "data": {
      "image/png": "[encoded data removed]",
      "text/plain": [
       "<Figure size 432x288 with 1 Axes>"
      ]
     },
     "metadata": {
      "needs_background": "light"
     },
     "output_type": "display_data"
    }
   ],
   "source": [
    "import matplotlib.pyplot as plt\n",
    "\n",
    "plt.plot(years, years_val)\n",
    "plt.xlabel(\"Years\")\n",
    "plt.ylabel(\"Occurences\")\n",
    "plt.title(\"UFO Sightings over Years\")"
   ]
  },
  {
   "cell_type": "markdown",
   "metadata": {},
   "source": [
    "## Box & Whisker Plots\n",
    "\n",
    "Box & whisker plots describe expected values for various categories \n",
    "\n",
    "Describe differences in data distributions\n",
    "\n",
    "Box & whisker diagrams display the following measures visually:\n",
    "\n",
    "* Maximum & Minimum\n",
    "\n",
    "* Median (Middle of sorted data) (AKA Quarter 2)\n",
    "\n",
    "* Interquartile-Range (Quarter 1 & Quarter 2)"
   ]
  },
  {
   "cell_type": "code",
   "execution_count": 182,
   "metadata": {},
   "outputs": [
    {
     "data": {
      "text/plain": [
       "Text(0.5, 1.0, 'Durations of UFO Type in CA')"
      ]
     },
     "execution_count": 182,
     "metadata": {},
     "output_type": "execute_result"
    },
    {
     "data": {
      "image/png": "[encoded data removed]",
      "text/plain": [
       "<Figure size 432x288 with 1 Axes>"
      ]
     },
     "metadata": {
      "needs_background": "light"
     },
     "output_type": "display_data"
    }
   ],
   "source": [
    "fig, ax = plt.subplots()\n",
    "ax.boxplot(ca_box_data, showfliers=False, labels=categories)\n",
    "ax.set_xlabel(\"UFO Category\")\n",
    "ax.set_ylabel(\"Durations\")\n",
    "ax.set_title(\"Durations of UFO Type in CA\")"
   ]
  },
  {
   "cell_type": "code",
   "execution_count": 204,
   "metadata": {},
   "outputs": [
    {
     "data": {
      "text/plain": [
       "{'whiskers': [<matplotlib.lines.Line2D at 0x1eba33a09d0>,\n",
       "  <matplotlib.lines.Line2D at 0x1eba33a0ca0>,\n",
       "  <matplotlib.lines.Line2D at 0x1eba33a1ab0>,\n",
       "  <matplotlib.lines.Line2D at 0x1eba33a1d80>,\n",
       "  <matplotlib.lines.Line2D at 0x1eba33a2b90>,\n",
       "  <matplotlib.lines.Line2D at 0x1eba33a2e60>,\n",
       "  <matplotlib.lines.Line2D at 0x1eba33a3c70>,\n",
       "  <matplotlib.lines.Line2D at 0x1eba33a3f40>,\n",
       "  <matplotlib.lines.Line2D at 0x1eba33d4d90>,\n",
       "  <matplotlib.lines.Line2D at 0x1eba33d5060>,\n",
       "  <matplotlib.lines.Line2D at 0x1eba33d5e70>,\n",
       "  <matplotlib.lines.Line2D at 0x1eba33d6140>,\n",
       "  <matplotlib.lines.Line2D at 0x1eba33d6f50>,\n",
       "  <matplotlib.lines.Line2D at 0x1eba33d7220>],\n",
       " 'caps': [<matplotlib.lines.Line2D at 0x1eba33a0f70>,\n",
       "  <matplotlib.lines.Line2D at 0x1eba33a1240>,\n",
       "  <matplotlib.lines.Line2D at 0x1eba33a2050>,\n",
       "  <matplotlib.lines.Line2D at 0x1eba33a2320>,\n",
       "  <matplotlib.lines.Line2D at 0x1eba33a3130>,\n",
       "  <matplotlib.lines.Line2D at 0x1eba33a3400>,\n",
       "  <matplotlib.lines.Line2D at 0x1eba33d4250>,\n",
       "  <matplotlib.lines.Line2D at 0x1eba33d4520>,\n",
       "  <matplotlib.lines.Line2D at 0x1eba33d5330>,\n",
       "  <matplotlib.lines.Line2D at 0x1eba33d5600>,\n",
       "  <matplotlib.lines.Line2D at 0x1eba33d6410>,\n",
       "  <matplotlib.lines.Line2D at 0x1eba33d66e0>,\n",
       "  <matplotlib.lines.Line2D at 0x1eba33d74f0>,\n",
       "  <matplotlib.lines.Line2D at 0x1eba33d77c0>],\n",
       " 'boxes': [<matplotlib.lines.Line2D at 0x1eba33a0700>,\n",
       "  <matplotlib.lines.Line2D at 0x1eba33a17e0>,\n",
       "  <matplotlib.lines.Line2D at 0x1eba33a28c0>,\n",
       "  <matplotlib.lines.Line2D at 0x1eba33a39a0>,\n",
       "  <matplotlib.lines.Line2D at 0x1eba33d4ac0>,\n",
       "  <matplotlib.lines.Line2D at 0x1eba33d5ba0>,\n",
       "  <matplotlib.lines.Line2D at 0x1eba33d6c80>],\n",
       " 'medians': [<matplotlib.lines.Line2D at 0x1eba33a1510>,\n",
       "  <matplotlib.lines.Line2D at 0x1eba33a25f0>,\n",
       "  <matplotlib.lines.Line2D at 0x1eba33a36d0>,\n",
       "  <matplotlib.lines.Line2D at 0x1eba33d47f0>,\n",
       "  <matplotlib.lines.Line2D at 0x1eba33d58d0>,\n",
       "  <matplotlib.lines.Line2D at 0x1eba33d69b0>,\n",
       "  <matplotlib.lines.Line2D at 0x1eba33d7a90>],\n",
       " 'fliers': [],\n",
       " 'means': []}"
      ]
     },
     "execution_count": 204,
     "metadata": {},
     "output_type": "execute_result"
    },
    {
     "data": {
      "image/png": "[encoded data removed]",
      "text/plain": [
       "<Figure size 432x288 with 1 Axes>"
      ]
     },
     "metadata": {
      "needs_background": "light"
     },
     "output_type": "display_data"
    }
   ],
   "source": [
    "fig, ax = plt.subplots()\n",
    "ax.boxplot(ny_box_data, showfliers=False, labels=categories)\n"
   ]
  },
  {
   "cell_type": "markdown",
   "metadata": {},
   "source": [
    "## Quartiles\n",
    "\n",
    "Calculating Lower Quartile & Upper Quartile\n",
    "\n",
    "Lower Quartile: the median of the left-half of the list (not-including the median)\n",
    "\n",
    "Upper Quartile: the median of the right-half of the list (not-including the median)\n",
    "\n",
    "First we calculate the median\n",
    "\n",
    "```\n",
    "[18, 27, 34, 52, 54, 59, 61, 68, 78, 82, 85, 87, 91, 93, 100]\n",
    "```\n",
    "\n",
    "From there we split the list into two lists in half on the median.\n",
    "\n",
    "We get the median of these repsective lists. These are our quarter 1's and 2's."
   ]
  },
  {
   "cell_type": "code",
   "execution_count": 196,
   "metadata": {},
   "outputs": [
    {
     "name": "stdout",
     "output_type": "stream",
     "text": [
      "median 68\n",
      "q1 52\n",
      "q3 87\n",
      "IQR 35\n"
     ]
    }
   ],
   "source": [
    "from statistics import median\n",
    "\n",
    "data = [18, 27, 34, 52, 54, 59, 61, 68, 78, 82, 85, 87, 91, 93, 100]\n",
    "\n",
    "med = median(data)\n",
    "ind_med = data.index(med)\n",
    "\n",
    "q1 = median(data[:ind_med])\n",
    "q3 = median(data[ind_med + 1:])\n",
    "\n",
    "print(\"median\", med)\n",
    "print(\"q1\",q1)\n",
    "print(\"q3\",q3)\n",
    "print(\"IQR\", q3 - q1)\n",
    "\n"
   ]
  },
  {
   "cell_type": "markdown",
   "metadata": {},
   "source": [
    "## Outliers\n",
    "\n",
    "When it comes to identifying outliers, we rely on the \"upper fence\" and \"lower fence.\"\n",
    "\n",
    "If we want a max & min that is not influenced by extreme values, we use upper fence and lower fence.\n",
    "\n",
    "Upper Fence: `Q3 + (1.5 * IQR)`\n",
    "\n",
    "Lower Fence: `Q1 - (1.5 * IQR)`\n",
    "\n",
    "Using upper & lower fence is a good way to detect outliers.\n",
    "\n",
    "We will move away from the informal 3 standard deviations, and utilize “upper” and “lower” fence.\n",
    "\n",
    "If something is more than the upper fence, it is an outlier. Ditto for lower fence."
   ]
  },
  {
   "cell_type": "code",
   "execution_count": 199,
   "metadata": {},
   "outputs": [
    {
     "name": "stdout",
     "output_type": "stream",
     "text": [
      "upper fence 139.5\n",
      "lower fence -0.5\n",
      "compare this to max 100\n",
      "compare this to min 18\n"
     ]
    }
   ],
   "source": [
    "iqr = q3 - q1\n",
    "\n",
    "upper_fence = q3 + (1.5 * iqr)\n",
    "lower_fence = q1 - (1.5 * iqr)\n",
    "\n",
    "print(\"upper fence\", upper_fence)\n",
    "print(\"lower fence\", lower_fence)\n",
    "\n",
    "print(\"compare this to max\", max(data))\n",
    "print(\"compare this to min\", min(data))"
   ]
  },
  {
   "cell_type": "markdown",
   "metadata": {},
   "source": [
    "## Summary\n",
    "\n",
    "Especially in the work/research setting, we utilize these graphs for presentation purposes.\n",
    "\n",
    "Good for representing stats on dataset.\n",
    "\n",
    "When it comes to communicating via visualizations, we want something more interactive and impactful.\n",
    "\n",
    "A picture is worth 1000 words.\n",
    "\n",
    "A good visualization is worth an hour presentation on your analysis.\n",
    "\n",
    "Especially for a recruiter.\n",
    "\n"
   ]
  }
 ],
 "metadata": {
  "kernelspec": {
   "display_name": "Python 3.10.7 64-bit",
   "language": "python",
   "name": "python3"
  },
  "language_info": {
   "codemirror_mode": {
    "name": "ipython",
    "version": 3
   },
   "file_extension": ".py",
   "mimetype": "text/x-python",
   "name": "python",
   "nbconvert_exporter": "python",
   "pygments_lexer": "ipython3",
   "version": "3.10.7"
  },
  "orig_nbformat": 4,
  "vscode": {
   "interpreter": {
    "hash": "369f2c481f4da34e4445cda3fffd2e751bd1c4d706f27375911949ba6bb62e1c"
   }
  }
 },
 "nbformat": 4,
 "nbformat_minor": 2
}
