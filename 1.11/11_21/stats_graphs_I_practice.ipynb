{
 "cells": [
  {
   "cell_type": "code",
   "execution_count": 41,
   "metadata": {},
   "outputs": [],
   "source": [
    "# run this code to set up your data\n",
    "import pandas as pd\n",
    "\n",
    "min_wage = pd.read_csv(\"data/min.csv\")\n",
    "\n",
    "# get wages & years for california\n",
    "ca_minwage = min_wage[min_wage[\"State\"] == \"California\"]\n",
    "\n",
    "# get wages for 2020 and sort\n",
    "twenty = min_wage[min_wage[\"Year\"] == 2020]\n",
    "twenty = twenty.sort_values(by=\"Effective.Minimum.Wage.2020.Dollars\", ascending=False)\n",
    "\n",
    "# get CA minimum wage year as list of lists for 2015-2020\n",
    "years = [2015, 2016, 2017, 2018, 2019, 2020]\n",
    "box_data = []\n",
    "\n",
    "for year in years:\n",
    "    handle = min_wage[min_wage[\"Year\"] == year][\"Effective.Minimum.Wage.2020.Dollars\"].tolist()\n",
    "    box_data.append(handle)"
   ]
  },
  {
   "cell_type": "markdown",
   "metadata": {},
   "source": [
    "## Scatter Plot\n",
    "\n",
    "Create a scatter plot of wages over years using the provided `wages` and `years` lists. Label your x-axis as \"years\" and your y-axis as \"wages USD(2020).\"\n",
    "\n",
    "Use this scatter plot to discuss visual insights on effective minimum wage in 2020 dollars in questions 1 through 3."
   ]
  },
  {
   "cell_type": "code",
   "execution_count": null,
   "metadata": {},
   "outputs": [],
   "source": [
    "# get wages & years list\n",
    "wages = min_wage[\"Effective.Minimum.Wage.2020.Dollars\"].tolist()\n",
    "years = min_wage[\"Year\"].tolist()\n",
    "\n",
    "# write code here"
   ]
  },
  {
   "cell_type": "markdown",
   "metadata": {},
   "source": [
    "# Q1\n",
    "\n",
    "At what specific year range (ex: `1970-1980`, `2000-2010`) did effective minimum wage experience its highest value?\n"
   ]
  },
  {
   "cell_type": "markdown",
   "metadata": {},
   "source": [
    "# Q2\n",
    "\n",
    "At what specific year range (ex: `1970-1980`, `2000-2010`) did effective minimum wage experience its lowest value?\n"
   ]
  },
  {
   "cell_type": "markdown",
   "metadata": {},
   "source": [
    "# Q3\n",
    "\n",
    "Did effective minimum wage increase, decrease, or remain neutral from 1968 - 2020?\n"
   ]
  },
  {
   "cell_type": "markdown",
   "metadata": {},
   "source": [
    "## Line Plot\n",
    "\n",
    "Create a line plot of wages over years for California using the provided lists `ca_wages` and `ca_years`. Label your x-axis as \"years\" and your y-axis as \"wages USD(2020)\"."
   ]
  },
  {
   "cell_type": "code",
   "execution_count": null,
   "metadata": {},
   "outputs": [],
   "source": [
    "ca_wages = ca_minwage[\"Effective.Minimum.Wage.2020.Dollars\"].tolist()\n",
    "ca_years = ca_minwage[\"Year\"].tolist()\n",
    "\n",
    "# write code here\n"
   ]
  },
  {
   "cell_type": "markdown",
   "metadata": {},
   "source": [
    "## Bar Chart\n",
    "\n",
    "Create a bar chart of the top 5 minimum wages using the provided lists `twenty_wages_top` and `twenty_states_top`. Label your x-axis as \"states\" and your y-axis as \"wages USD(2020).\"\n",
    "\n",
    "In a seperate cell, create a bar chart of the bottom 5 minimum wages using the provided lists `twenty_wages_bot` and `twenty_states_bot`. Label your x-axis as \"states\" and your y-axis as \"wages USD(2020).\"\n",
    "\n",
    "Use these bar charts to discuss visual insights on effective minimum wage in 2020 dollars in questions 4 through 6."
   ]
  },
  {
   "cell_type": "code",
   "execution_count": null,
   "metadata": {},
   "outputs": [],
   "source": [
    "twenty_wages_top = twenty[\"Effective.Minimum.Wage.2020.Dollars\"].tolist()[:5]\n",
    "twenty_states_top = twenty[\"State\"].tolist()[:5]\n",
    "\n",
    "twenty_wages_bot = twenty[\"Effective.Minimum.Wage.2020.Dollars\"].tolist()[-5:]\n",
    "twenty_states_bot = twenty[\"State\"].tolist()[-5:]\n",
    "\n",
    "# write code for top minimum wages\n"
   ]
  },
  {
   "cell_type": "code",
   "execution_count": null,
   "metadata": {},
   "outputs": [],
   "source": [
    "# write code for bottom minimum wages\n"
   ]
  },
  {
   "cell_type": "markdown",
   "metadata": {},
   "source": [
    "# Q4\n",
    "\n",
    "Which state had the highest effective minimum wage for 2020?\n",
    "\n"
   ]
  },
  {
   "cell_type": "markdown",
   "metadata": {},
   "source": [
    "# Q5\n",
    "\n",
    "What was the highest effective minimum wage in the US for 2020?\n",
    "\n"
   ]
  },
  {
   "cell_type": "markdown",
   "metadata": {},
   "source": [
    "# Q6\n",
    "\n",
    "Was there any difference in effective minimum wage in the US for bottom 5 US states?\n",
    "\n"
   ]
  },
  {
   "cell_type": "markdown",
   "metadata": {},
   "source": [
    "## Box & Whisker Plot\n",
    "\n",
    "Create a box & whisker plot of the effective minimum wage for each state in `box_data`. Use the list `years` as your labels and ignore outliers. Label your x-axis as \"years\" and your y-axis as \"wages USD(2020).\"\n",
    "\n",
    "Use these bar charts to discuss visual insights on effective minimum wage in 2020 dollars in questions 7 through 9."
   ]
  },
  {
   "cell_type": "code",
   "execution_count": null,
   "metadata": {},
   "outputs": [],
   "source": [
    "# write code here\n"
   ]
  },
  {
   "cell_type": "markdown",
   "metadata": {},
   "source": [
    "## Q7\n",
    "\n",
    "What was the maximum effective wage in 2015?\n",
    "\n"
   ]
  },
  {
   "cell_type": "markdown",
   "metadata": {},
   "source": [
    "## Q8\n",
    "\n",
    "How does this compare to the maximum effective wage of 2020?\n",
    "\n"
   ]
  },
  {
   "cell_type": "markdown",
   "metadata": {},
   "source": [
    "## Q9\n",
    "\n",
    "How did minimum effective wage change from 2015 to 2020?\n",
    "\n"
   ]
  }
 ],
 "metadata": {
  "kernelspec": {
   "display_name": "Python 3.10.7 64-bit",
   "language": "python",
   "name": "python3"
  },
  "language_info": {
   "codemirror_mode": {
    "name": "ipython",
    "version": 3
   },
   "file_extension": ".py",
   "mimetype": "text/x-python",
   "name": "python",
   "nbconvert_exporter": "python",
   "pygments_lexer": "ipython3",
   "version": "3.10.7"
  },
  "orig_nbformat": 4,
  "vscode": {
   "interpreter": {
    "hash": "369f2c481f4da34e4445cda3fffd2e751bd1c4d706f27375911949ba6bb62e1c"
   }
  }
 },
 "nbformat": 4,
 "nbformat_minor": 2
}
