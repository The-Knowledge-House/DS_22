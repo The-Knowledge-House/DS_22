{
 "cells": [
  {
   "cell_type": "markdown",
   "metadata": {},
   "source": [
    "## Q1\n",
    "\n",
    "For this part of your extra credit you will create an account on [leetcode](https://leetcode.com/).\n",
    "\n",
    "Post your username here: \n"
   ]
  },
  {
   "cell_type": "markdown",
   "metadata": {},
   "source": [
    "## Q2\n",
    "\n",
    "Complete a new leetcode question that we have not interacted with yet. Copy and paste your solution in the code block below."
   ]
  },
  {
   "cell_type": "code",
   "execution_count": null,
   "metadata": {},
   "outputs": [],
   "source": [
    "# write code here"
   ]
  },
  {
   "cell_type": "markdown",
   "metadata": {},
   "source": [
    "## Q3\n",
    "\n",
    "Create a [kaggle](https://www.kaggle.com/) account.\n",
    "\n",
    "Post your username here:"
   ]
  },
  {
   "cell_type": "markdown",
   "metadata": {},
   "source": [
    "## Q4\n",
    "\n",
    "Find a kaggle dataset that personally interests you. Post a link to this dataset and explain why it interests you."
   ]
  },
  {
   "cell_type": "markdown",
   "metadata": {},
   "source": [
    "Place dataset link and interest here"
   ]
  },
  {
   "cell_type": "markdown",
   "metadata": {},
   "source": [
    "## Q5\n",
    "\n",
    "Create a class called `Coordinate` that will store the two `x` and `y` cooridinates as attributes. Create a method called `add` that will take in another `Coordinate` object and will calculate the sum of both cooridinates by creating a new Coordinate object. \n",
    "\n",
    "Example\n",
    "```python\n",
    "test1 = Coordinate(1, 2)\n",
    "test2 = Coordinate(5, 1)\n",
    "\n",
    "test3 = test1.add(test2)\n",
    "\n",
    "# this will print out 6\n",
    "print(test3.x)\n",
    "# this will print out 3\n",
    "print(test3.y)\n",
    "# this will print out 'Coordinate'\n",
    "print(type(test3))\n",
    "```"
   ]
  },
  {
   "cell_type": "code",
   "execution_count": null,
   "metadata": {},
   "outputs": [],
   "source": [
    "# write code here"
   ]
  },
  {
   "cell_type": "code",
   "execution_count": null,
   "metadata": {},
   "outputs": [],
   "source": [
    "# test code here\n",
    "test1 = Coordinate(1, 2)\n",
    "test2 = Coordinate(5, 1)\n",
    "\n",
    "test3 = test1.add(test2)\n",
    "\n",
    "# this will print out 6\n",
    "print(test3.x)\n",
    "# this will print out 3\n",
    "print(test3.y)\n",
    "# this will print out 'Coordinate'\n",
    "print(type(test3))"
   ]
  }
 ],
 "metadata": {
  "language_info": {
   "name": "python"
  },
  "orig_nbformat": 4
 },
 "nbformat": 4,
 "nbformat_minor": 2
}
