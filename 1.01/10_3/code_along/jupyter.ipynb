{
 "cells": [
  {
   "cell_type": "markdown",
   "metadata": {},
   "source": [
    "# Jupyter\n",
    "\n",
    "We can insert \"markdown\" blocks inside of Jupyter that can be formatted using special symbols."
   ]
  },
  {
   "cell_type": "code",
   "execution_count": 3,
   "metadata": {},
   "outputs": [
    {
     "name": "stdout",
     "output_type": "stream",
     "text": [
      "We can also put Python code!\n"
     ]
    }
   ],
   "source": [
    "print(\"We can also put Python code!\")"
   ]
  },
  {
   "cell_type": "code",
   "execution_count": 2,
   "metadata": {},
   "outputs": [
    {
     "data": {
      "text/plain": [
       "23"
      ]
     },
     "execution_count": 2,
     "metadata": {},
     "output_type": "execute_result"
    }
   ],
   "source": [
    "x = 5\n",
    "y = 18\n",
    "\n",
    "x + y"
   ]
  },
  {
   "cell_type": "markdown",
   "metadata": {},
   "source": [
    "Notice that markdown has a feature where the last line of code is always printed out to the notebook itself! Be mindful that **only the last line will be printed**. Also be mindful that this feature is **not present in regular Python modules**."
   ]
  },
  {
   "cell_type": "code",
   "execution_count": 1,
   "metadata": {},
   "outputs": [
    {
     "data": {
      "text/plain": [
       "'goodbye world'"
      ]
     },
     "execution_count": 1,
     "metadata": {},
     "output_type": "execute_result"
    }
   ],
   "source": [
    "\"hello world\"\n",
    "\"goodbye world\""
   ]
  },
  {
   "cell_type": "markdown",
   "metadata": {},
   "source": [
    "## What is Markdown?\n",
    "\n",
    "You'll notice that all of our text files contain the extension (end of file) `.md`. This is the file extension that signifies that a file is in \"markdown\" format? \n",
    "\n",
    "What exactly is markdown? Think of a text file that supports formatting using simple and memorable symbols. If you've ever left a comment on reddit, you should be familair with this syntax! \n",
    "\n",
    "# We can make large headers!\n",
    "## Smaller sub-headers\n",
    "### And so on!\n",
    "\n",
    "We can also implement [hyperlinks](https://www.google.com/).\n",
    "\n",
    "And even images! \n",
    "\n",
    "![A guinea pig](https://upload.wikimedia.org/wikipedia/commons/thumb/c/c3/Python-logo-notext.svg/1869px-Python-logo-notext.svg.png)\n",
    "\n",
    "To see the full functionality of markdown, check out this documentation: https://www.markdownguide.org/basic-syntax/ "
   ]
  }
 ],
 "metadata": {
  "kernelspec": {
   "display_name": "Python 3",
   "language": "python",
   "name": "python3"
  },
  "language_info": {
   "codemirror_mode": {
    "name": "ipython",
    "version": 3
   },
   "file_extension": ".py",
   "mimetype": "text/x-python",
   "name": "python",
   "nbconvert_exporter": "python",
   "pygments_lexer": "ipython3",
   "version": "3.10.7"
  },
  "orig_nbformat": 4
 },
 "nbformat": 4,
 "nbformat_minor": 2
}
