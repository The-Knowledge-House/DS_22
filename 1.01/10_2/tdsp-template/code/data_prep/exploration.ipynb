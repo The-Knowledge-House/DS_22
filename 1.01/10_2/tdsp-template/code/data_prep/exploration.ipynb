{
 "cells": [
  {
   "cell_type": "markdown",
   "metadata": {},
   "source": [
    "# Exploratory Data Analysis\n",
    "\n",
    "Exploratory data analysis describes the process of exploring relationships through numeric and visual output. \n",
    "\n",
    "[EDA Article](https://www.epa.gov/caddis-vol4/exploratory-data-analysis)\n",
    "\n",
    "[Python EDA](https://www.digitalocean.com/community/tutorials/exploratory-data-analysis-python)"
   ]
  }
 ],
 "metadata": {
  "language_info": {
   "name": "python"
  },
  "orig_nbformat": 4
 },
 "nbformat": 4,
 "nbformat_minor": 2
}
