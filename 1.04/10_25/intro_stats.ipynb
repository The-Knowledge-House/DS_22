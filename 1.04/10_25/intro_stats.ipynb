{
 "cells": [
  {
   "cell_type": "markdown",
   "metadata": {},
   "source": [
    "# Stats Lab\n",
    "\n",
    "The goal of this lab will be to cover basic statistical analysis and get you practicing visualizing data and calculating central tendency using python and mathematics.\n",
    "\n",
    "Follow the instructions in each cell. You will be given some starter code to help you and the necessary imports, but fill in the ellipsis (...) with the proper code."
   ]
  },
  {
   "cell_type": "code",
   "execution_count": null,
   "metadata": {},
   "outputs": [],
   "source": [
    "import random"
   ]
  },
  {
   "cell_type": "code",
   "execution_count": null,
   "metadata": {},
   "outputs": [],
   "source": [
    "# Using random's randint() function and for loops, generate a list of 30 numbers.random\n",
    "\n",
    "random_numbers = []\n",
    "\n",
    "for ... in range(...):\n",
    "    random_numbers.append(...)"
   ]
  },
  {
   "cell_type": "code",
   "execution_count": null,
   "metadata": {},
   "outputs": [],
   "source": [
    "# Calculate the mean of the list without using python packages\n",
    "# reminder, the formula for mean is sum(numbers)/(count of numbers)\n",
    "# use the len() function\n",
    "\n",
    "mean = .../..."
   ]
  },
  {
   "cell_type": "markdown",
   "metadata": {},
   "source": [
    "#### Central Tendency\n",
    "Now using the statistics package in Python calculate the mean, median, and mode of your list.\n",
    "\n",
    "Hint: read the following documentation: https://docs.python.org/3/library/statistics.html"
   ]
  },
  {
   "cell_type": "code",
   "execution_count": 1,
   "metadata": {},
   "outputs": [],
   "source": [
    "import statistics"
   ]
  },
  {
   "cell_type": "code",
   "execution_count": null,
   "metadata": {},
   "outputs": [],
   "source": [
    "# Print answer here"
   ]
  },
  {
   "cell_type": "markdown",
   "metadata": {},
   "source": [
    "#### Visualizing data\n",
    "You will make two graphs: a histogram and a scatter plot. Using the matplotlib.pyplot package generate the histogram using your first list of data.\n",
    "\n",
    "Using the code above, make a second list of 30 random numbers.\n",
    "With these two lists, create a scatter plot of that random data.\n",
    "\n",
    "Hint: read the following: \n",
    "https://matplotlib.org/stable/api/_as_gen/matplotlib.pyplot.hist.html\n",
    "https://matplotlib.org/stable/gallery/shapes_and_collections/scatter.html"
   ]
  },
  {
   "cell_type": "code",
   "execution_count": null,
   "metadata": {},
   "outputs": [],
   "source": [
    "import matplotlib.pyplot as plt"
   ]
  },
  {
   "cell_type": "code",
   "execution_count": null,
   "metadata": {},
   "outputs": [],
   "source": []
  },
  {
   "cell_type": "code",
   "execution_count": null,
   "metadata": {},
   "outputs": [],
   "source": [
    "list_two = ..."
   ]
  },
  {
   "cell_type": "code",
   "execution_count": null,
   "metadata": {},
   "outputs": [],
   "source": [
    "plt....(x=..., y=...)"
   ]
  },
  {
   "attachments": {
    "image.png": {
     "image/png": "[encoded data removed]"
    }
   },
   "cell_type": "markdown",
   "metadata": {},
   "source": [
    "Using code, calculate the standard deviation of both of your lists.\n",
    "\n",
    "Remember that the formula for standard deviation is the following (in English):\n",
    "The square root of the sum of squared differences between each value of x and the mean divided by the number of values.\n",
    "\n",
    "In other words: sqrt( sum(x - mean)^2/N )\n",
    "\n",
    "![image.png](attachment:image.png)\n",
    "\n",
    "Read: https://www.khanacademy.org/math/statistics-probability/summarizing-quantitative-data/variance-standard-deviation-population/a/calculating-standard-deviation-step-by-step for math explanation"
   ]
  },
  {
   "cell_type": "code",
   "execution_count": null,
   "metadata": {},
   "outputs": [],
   "source": [
    "import math"
   ]
  },
  {
   "cell_type": "code",
   "execution_count": null,
   "metadata": {},
   "outputs": [],
   "source": [
    "# use the mean function from statistics to calculate mean\n",
    "# use a for loop to keep track of the squared differences \n",
    "# the math package has a sqrt function\n",
    "\n",
    "squared_diff = []\n",
    "\n",
    "mean = ...\n",
    "\n",
    "for ... in ...:\n",
    "    squared_diff... # think of what method you would use here\n",
    "\n",
    "sum_squared_diff = ...\n",
    "\n",
    "standard_devation = ...\n"
   ]
  },
  {
   "cell_type": "code",
   "execution_count": null,
   "metadata": {},
   "outputs": [],
   "source": [
    "# Now do the whole thing again but using list comprehension instead\n",
    "# Who can do it in the fewest amount of lines?"
   ]
  }
 ],
 "metadata": {
  "kernelspec": {
   "display_name": "phase1",
   "language": "python",
   "name": "python3"
  },
  "language_info": {
   "codemirror_mode": {
    "name": "ipython",
    "version": 3
   },
   "file_extension": ".py",
   "mimetype": "text/x-python",
   "name": "python",
   "nbconvert_exporter": "python",
   "pygments_lexer": "ipython3",
   "version": "3.9.18"
  }
 },
 "nbformat": 4,
 "nbformat_minor": 2
}
